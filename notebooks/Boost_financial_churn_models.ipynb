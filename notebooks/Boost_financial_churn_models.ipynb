{
 "cells": [
  {
   "cell_type": "markdown",
   "metadata": {},
   "source": [
    "### Import Bulian library and dependencies"
   ]
  },
  {
   "cell_type": "code",
   "execution_count": 57,
   "metadata": {},
   "outputs": [],
   "source": [
    "sys.path.insert(1,r'F:\\Users\\Kaggle\\bulian')"
   ]
  },
  {
   "cell_type": "code",
   "execution_count": 58,
   "metadata": {},
   "outputs": [],
   "source": [
    "import os,sys,torch\n",
    "import pandas as pd\n",
    "from bulian.synthesizers import TwinSynthesizer,PrivateTwinSynthesizer\n",
    "from bulian.metrics import *\n",
    "from bulian.metrics.reports import *\n",
    "from bulian.metrics import compute_metrics\n",
    "from bulian.metrics.single_table import SingleTableMetric\n",
    "from bulian.metrics.single_table import *"
   ]
  },
  {
   "cell_type": "code",
   "execution_count": 59,
   "metadata": {},
   "outputs": [],
   "source": [
    "import warnings\n",
    "warnings.filterwarnings('ignore')"
   ]
  },
  {
   "cell_type": "markdown",
   "metadata": {},
   "source": [
    "### Read raw CSV data"
   ]
  },
  {
   "cell_type": "code",
   "execution_count": 60,
   "metadata": {},
   "outputs": [],
   "source": [
    "churn = pd.read_csv(r\"F:\\Users\\Kaggle\\bulian\\examples\\csv\\Churn.csv\")"
   ]
  },
  {
   "cell_type": "code",
   "execution_count": 61,
   "metadata": {},
   "outputs": [
    {
     "data": {
      "text/html": [
       "<div>\n",
       "<style scoped>\n",
       "    .dataframe tbody tr th:only-of-type {\n",
       "        vertical-align: middle;\n",
       "    }\n",
       "\n",
       "    .dataframe tbody tr th {\n",
       "        vertical-align: top;\n",
       "    }\n",
       "\n",
       "    .dataframe thead th {\n",
       "        text-align: right;\n",
       "    }\n",
       "</style>\n",
       "<table border=\"1\" class=\"dataframe\">\n",
       "  <thead>\n",
       "    <tr style=\"text-align: right;\">\n",
       "      <th></th>\n",
       "      <th>CreditScore</th>\n",
       "      <th>Geography</th>\n",
       "      <th>Gender</th>\n",
       "      <th>Age</th>\n",
       "      <th>Tenure</th>\n",
       "      <th>Balance</th>\n",
       "      <th>NumOfProducts</th>\n",
       "      <th>HasCrCard</th>\n",
       "      <th>IsActiveMember</th>\n",
       "      <th>EstimatedSalary</th>\n",
       "      <th>Exited</th>\n",
       "    </tr>\n",
       "  </thead>\n",
       "  <tbody>\n",
       "    <tr>\n",
       "      <th>0</th>\n",
       "      <td>619</td>\n",
       "      <td>France</td>\n",
       "      <td>Female</td>\n",
       "      <td>42</td>\n",
       "      <td>2</td>\n",
       "      <td>0.00</td>\n",
       "      <td>1</td>\n",
       "      <td>1</td>\n",
       "      <td>1</td>\n",
       "      <td>101348.88</td>\n",
       "      <td>1</td>\n",
       "    </tr>\n",
       "    <tr>\n",
       "      <th>1</th>\n",
       "      <td>608</td>\n",
       "      <td>Spain</td>\n",
       "      <td>Female</td>\n",
       "      <td>41</td>\n",
       "      <td>1</td>\n",
       "      <td>83807.86</td>\n",
       "      <td>1</td>\n",
       "      <td>0</td>\n",
       "      <td>1</td>\n",
       "      <td>112542.58</td>\n",
       "      <td>0</td>\n",
       "    </tr>\n",
       "    <tr>\n",
       "      <th>2</th>\n",
       "      <td>502</td>\n",
       "      <td>France</td>\n",
       "      <td>Female</td>\n",
       "      <td>42</td>\n",
       "      <td>8</td>\n",
       "      <td>159660.80</td>\n",
       "      <td>3</td>\n",
       "      <td>1</td>\n",
       "      <td>0</td>\n",
       "      <td>113931.57</td>\n",
       "      <td>1</td>\n",
       "    </tr>\n",
       "    <tr>\n",
       "      <th>3</th>\n",
       "      <td>699</td>\n",
       "      <td>France</td>\n",
       "      <td>Female</td>\n",
       "      <td>39</td>\n",
       "      <td>1</td>\n",
       "      <td>0.00</td>\n",
       "      <td>2</td>\n",
       "      <td>0</td>\n",
       "      <td>0</td>\n",
       "      <td>93826.63</td>\n",
       "      <td>0</td>\n",
       "    </tr>\n",
       "    <tr>\n",
       "      <th>4</th>\n",
       "      <td>850</td>\n",
       "      <td>Spain</td>\n",
       "      <td>Female</td>\n",
       "      <td>43</td>\n",
       "      <td>2</td>\n",
       "      <td>125510.82</td>\n",
       "      <td>1</td>\n",
       "      <td>1</td>\n",
       "      <td>1</td>\n",
       "      <td>79084.10</td>\n",
       "      <td>0</td>\n",
       "    </tr>\n",
       "  </tbody>\n",
       "</table>\n",
       "</div>"
      ],
      "text/plain": [
       "   CreditScore Geography  Gender  Age  Tenure    Balance  NumOfProducts  \\\n",
       "0          619    France  Female   42       2       0.00              1   \n",
       "1          608     Spain  Female   41       1   83807.86              1   \n",
       "2          502    France  Female   42       8  159660.80              3   \n",
       "3          699    France  Female   39       1       0.00              2   \n",
       "4          850     Spain  Female   43       2  125510.82              1   \n",
       "\n",
       "   HasCrCard  IsActiveMember  EstimatedSalary  Exited  \n",
       "0          1               1        101348.88       1  \n",
       "1          0               1        112542.58       0  \n",
       "2          1               0        113931.57       1  \n",
       "3          0               0         93826.63       0  \n",
       "4          1               1         79084.10       0  "
      ]
     },
     "execution_count": 61,
     "metadata": {},
     "output_type": "execute_result"
    }
   ],
   "source": [
    "churn.head()"
   ]
  },
  {
   "cell_type": "markdown",
   "metadata": {},
   "source": [
    "### Define column types for ingestion by Bulian models"
   ]
  },
  {
   "cell_type": "code",
   "execution_count": 62,
   "metadata": {},
   "outputs": [],
   "source": [
    "discrete_columns = [\n",
    "   'Geography',\n",
    "   'Gender',\n",
    "   'HasCrCard',\n",
    "   'IsActiveMember',\n",
    "   'Exited'\n",
    "]\n",
    "\n",
    "target = 'Exited'\n",
    "\n",
    "numeric_features = [i for i in churn.columns if i not in discrete_columns]"
   ]
  },
  {
   "cell_type": "markdown",
   "metadata": {},
   "source": [
    "### Check if GPU is available"
   ]
  },
  {
   "cell_type": "code",
   "execution_count": 63,
   "metadata": {},
   "outputs": [
    {
     "name": "stdout",
     "output_type": "stream",
     "text": [
      "True 0 NVIDIA GeForce RTX 3090\n"
     ]
    }
   ],
   "source": [
    "print(torch.cuda.is_available(),torch.cuda.current_device(),torch.cuda.get_device_name(0))"
   ]
  },
  {
   "cell_type": "code",
   "execution_count": 64,
   "metadata": {},
   "outputs": [
    {
     "name": "stdout",
     "output_type": "stream",
     "text": [
      "Thu Jun 16 16:04:04 2022       \n",
      "+-----------------------------------------------------------------------------+\n",
      "| NVIDIA-SMI 511.79       Driver Version: 511.79       CUDA Version: 11.6     |\n",
      "|-------------------------------+----------------------+----------------------+\n",
      "| GPU  Name            TCC/WDDM | Bus-Id        Disp.A | Volatile Uncorr. ECC |\n",
      "| Fan  Temp  Perf  Pwr:Usage/Cap|         Memory-Usage | GPU-Util  Compute M. |\n",
      "|                               |                      |               MIG M. |\n",
      "|===============================+======================+======================|\n",
      "|   0  NVIDIA GeForce ... WDDM  | 00000000:01:00.0  On |                  N/A |\n",
      "|  0%   52C    P8    27W / 370W |    770MiB / 24576MiB |     19%      Default |\n",
      "|                               |                      |                  N/A |\n",
      "+-------------------------------+----------------------+----------------------+\n",
      "                                                                               \n",
      "+-----------------------------------------------------------------------------+\n",
      "| Processes:                                                                  |\n",
      "|  GPU   GI   CI        PID   Type   Process name                  GPU Memory |\n",
      "|        ID   ID                                                   Usage      |\n",
      "|=============================================================================|\n",
      "|    0   N/A  N/A       500    C+G   ...cw5n1h2txyewy\\LockApp.exe    N/A      |\n",
      "|    0   N/A  N/A      1492    C+G   ...8bbwe\\Microsoft.Notes.exe    N/A      |\n",
      "|    0   N/A  N/A      1696    C+G   ...ekyb3d8bbwe\\YourPhone.exe    N/A      |\n",
      "|    0   N/A  N/A      3508    C+G                                   N/A      |\n",
      "|    0   N/A  N/A      4600    C+G   ...5n1h2txyewy\\SearchApp.exe    N/A      |\n",
      "|    0   N/A  N/A      5456    C+G   ...me\\Application\\chrome.exe    N/A      |\n",
      "|    0   N/A  N/A      7008    C+G   ...lPanel\\SystemSettings.exe    N/A      |\n",
      "|    0   N/A  N/A      7628    C+G   ...2txyewy\\TextInputHost.exe    N/A      |\n",
      "|    0   N/A  N/A      8132    C+G   ...artMenuExperienceHost.exe    N/A      |\n",
      "|    0   N/A  N/A      8244    C+G   ...icrosoft VS Code\\Code.exe    N/A      |\n",
      "|    0   N/A  N/A      9788    C+G   C:\\Windows\\explorer.exe         N/A      |\n",
      "|    0   N/A  N/A     11272    C+G   ...bbwe\\Microsoft.Photos.exe    N/A      |\n",
      "|    0   N/A  N/A     11528    C+G   ...y\\ShellExperienceHost.exe    N/A      |\n",
      "+-----------------------------------------------------------------------------+\n"
     ]
    }
   ],
   "source": [
    "!nvidia-smi"
   ]
  },
  {
   "cell_type": "markdown",
   "metadata": {},
   "source": [
    "###### "
   ]
  },
  {
   "cell_type": "markdown",
   "metadata": {},
   "source": [
    "### Check data statitics"
   ]
  },
  {
   "cell_type": "code",
   "execution_count": 65,
   "metadata": {},
   "outputs": [
    {
     "data": {
      "text/html": [
       "<div>\n",
       "<style scoped>\n",
       "    .dataframe tbody tr th:only-of-type {\n",
       "        vertical-align: middle;\n",
       "    }\n",
       "\n",
       "    .dataframe tbody tr th {\n",
       "        vertical-align: top;\n",
       "    }\n",
       "\n",
       "    .dataframe thead th {\n",
       "        text-align: right;\n",
       "    }\n",
       "</style>\n",
       "<table border=\"1\" class=\"dataframe\">\n",
       "  <thead>\n",
       "    <tr style=\"text-align: right;\">\n",
       "      <th></th>\n",
       "      <th>CreditScore</th>\n",
       "      <th>Age</th>\n",
       "      <th>Tenure</th>\n",
       "      <th>Balance</th>\n",
       "      <th>NumOfProducts</th>\n",
       "      <th>HasCrCard</th>\n",
       "      <th>IsActiveMember</th>\n",
       "      <th>EstimatedSalary</th>\n",
       "      <th>Exited</th>\n",
       "    </tr>\n",
       "  </thead>\n",
       "  <tbody>\n",
       "    <tr>\n",
       "      <th>count</th>\n",
       "      <td>10000.000000</td>\n",
       "      <td>10000.000000</td>\n",
       "      <td>10000.000000</td>\n",
       "      <td>10000.000000</td>\n",
       "      <td>10000.000000</td>\n",
       "      <td>10000.00000</td>\n",
       "      <td>10000.000000</td>\n",
       "      <td>10000.000000</td>\n",
       "      <td>10000.000000</td>\n",
       "    </tr>\n",
       "    <tr>\n",
       "      <th>mean</th>\n",
       "      <td>650.528800</td>\n",
       "      <td>38.921800</td>\n",
       "      <td>5.012800</td>\n",
       "      <td>76485.889288</td>\n",
       "      <td>1.530200</td>\n",
       "      <td>0.70550</td>\n",
       "      <td>0.515100</td>\n",
       "      <td>100090.239881</td>\n",
       "      <td>0.203700</td>\n",
       "    </tr>\n",
       "    <tr>\n",
       "      <th>std</th>\n",
       "      <td>96.653299</td>\n",
       "      <td>10.487806</td>\n",
       "      <td>2.892174</td>\n",
       "      <td>62397.405202</td>\n",
       "      <td>0.581654</td>\n",
       "      <td>0.45584</td>\n",
       "      <td>0.499797</td>\n",
       "      <td>57510.492818</td>\n",
       "      <td>0.402769</td>\n",
       "    </tr>\n",
       "    <tr>\n",
       "      <th>min</th>\n",
       "      <td>350.000000</td>\n",
       "      <td>18.000000</td>\n",
       "      <td>0.000000</td>\n",
       "      <td>0.000000</td>\n",
       "      <td>1.000000</td>\n",
       "      <td>0.00000</td>\n",
       "      <td>0.000000</td>\n",
       "      <td>11.580000</td>\n",
       "      <td>0.000000</td>\n",
       "    </tr>\n",
       "    <tr>\n",
       "      <th>25%</th>\n",
       "      <td>584.000000</td>\n",
       "      <td>32.000000</td>\n",
       "      <td>3.000000</td>\n",
       "      <td>0.000000</td>\n",
       "      <td>1.000000</td>\n",
       "      <td>0.00000</td>\n",
       "      <td>0.000000</td>\n",
       "      <td>51002.110000</td>\n",
       "      <td>0.000000</td>\n",
       "    </tr>\n",
       "    <tr>\n",
       "      <th>50%</th>\n",
       "      <td>652.000000</td>\n",
       "      <td>37.000000</td>\n",
       "      <td>5.000000</td>\n",
       "      <td>97198.540000</td>\n",
       "      <td>1.000000</td>\n",
       "      <td>1.00000</td>\n",
       "      <td>1.000000</td>\n",
       "      <td>100193.915000</td>\n",
       "      <td>0.000000</td>\n",
       "    </tr>\n",
       "    <tr>\n",
       "      <th>75%</th>\n",
       "      <td>718.000000</td>\n",
       "      <td>44.000000</td>\n",
       "      <td>7.000000</td>\n",
       "      <td>127644.240000</td>\n",
       "      <td>2.000000</td>\n",
       "      <td>1.00000</td>\n",
       "      <td>1.000000</td>\n",
       "      <td>149388.247500</td>\n",
       "      <td>0.000000</td>\n",
       "    </tr>\n",
       "    <tr>\n",
       "      <th>max</th>\n",
       "      <td>850.000000</td>\n",
       "      <td>92.000000</td>\n",
       "      <td>10.000000</td>\n",
       "      <td>250898.090000</td>\n",
       "      <td>4.000000</td>\n",
       "      <td>1.00000</td>\n",
       "      <td>1.000000</td>\n",
       "      <td>199992.480000</td>\n",
       "      <td>1.000000</td>\n",
       "    </tr>\n",
       "  </tbody>\n",
       "</table>\n",
       "</div>"
      ],
      "text/plain": [
       "        CreditScore           Age        Tenure        Balance  NumOfProducts  \\\n",
       "count  10000.000000  10000.000000  10000.000000   10000.000000   10000.000000   \n",
       "mean     650.528800     38.921800      5.012800   76485.889288       1.530200   \n",
       "std       96.653299     10.487806      2.892174   62397.405202       0.581654   \n",
       "min      350.000000     18.000000      0.000000       0.000000       1.000000   \n",
       "25%      584.000000     32.000000      3.000000       0.000000       1.000000   \n",
       "50%      652.000000     37.000000      5.000000   97198.540000       1.000000   \n",
       "75%      718.000000     44.000000      7.000000  127644.240000       2.000000   \n",
       "max      850.000000     92.000000     10.000000  250898.090000       4.000000   \n",
       "\n",
       "         HasCrCard  IsActiveMember  EstimatedSalary        Exited  \n",
       "count  10000.00000    10000.000000     10000.000000  10000.000000  \n",
       "mean       0.70550        0.515100    100090.239881      0.203700  \n",
       "std        0.45584        0.499797     57510.492818      0.402769  \n",
       "min        0.00000        0.000000        11.580000      0.000000  \n",
       "25%        0.00000        0.000000     51002.110000      0.000000  \n",
       "50%        1.00000        1.000000    100193.915000      0.000000  \n",
       "75%        1.00000        1.000000    149388.247500      0.000000  \n",
       "max        1.00000        1.000000    199992.480000      1.000000  "
      ]
     },
     "execution_count": 65,
     "metadata": {},
     "output_type": "execute_result"
    }
   ],
   "source": [
    "churn.describe()"
   ]
  },
  {
   "cell_type": "code",
   "execution_count": 66,
   "metadata": {},
   "outputs": [
    {
     "data": {
      "text/plain": [
       "0    0.7963\n",
       "1    0.2037\n",
       "Name: Exited, dtype: float64"
      ]
     },
     "execution_count": 66,
     "metadata": {},
     "output_type": "execute_result"
    }
   ],
   "source": [
    "churn['Exited'].value_counts(normalize=True)"
   ]
  },
  {
   "cell_type": "code",
   "execution_count": 67,
   "metadata": {},
   "outputs": [
    {
     "data": {
      "text/plain": [
       "(10000, 11)"
      ]
     },
     "execution_count": 67,
     "metadata": {},
     "output_type": "execute_result"
    }
   ],
   "source": [
    "churn.shape"
   ]
  },
  {
   "cell_type": "markdown",
   "metadata": {},
   "source": [
    "### Build a Bulian.ai synthetic data model to boost class imbalance in churn dataset\n"
   ]
  },
  {
   "cell_type": "code",
   "execution_count": 68,
   "metadata": {},
   "outputs": [],
   "source": [
    "synth = TwinSynthesizer(batch_size=200)"
   ]
  },
  {
   "cell_type": "code",
   "execution_count": 69,
   "metadata": {
    "scrolled": true
   },
   "outputs": [
    {
     "name": "stdout",
     "output_type": "stream",
     "text": [
      "Epoch: [0]  [ 0/49]  eta: 0:00:01  loss_g: 0.8041 (0.8041)  loss_d: 0.0780 (0.0780)  loss: 0.8820 (0.8820)  time: 0.0312  data: 0.0000  max mem: 0\n",
      "Epoch: [0]  [49/49]  eta: 0:00:00  loss_g: 0.1277 (0.3849)  loss_d: 0.0200 (0.0055)  loss: 0.1579 (0.3903)  time: 0.0410  data: 0.0000  max mem: 0\n",
      "Epoch: [0] Total time: 0:00:01\n",
      "Epoch: [1]  [ 0/49]  eta: 0:00:01  loss_g: 0.2357 (0.2357)  loss_d: -0.0952 (-0.0952)  loss: 0.1405 (0.1405)  time: 0.0380  data: 0.0000  max mem: 0\n",
      "Epoch: [1]  [49/49]  eta: 0:00:00  loss_g: -0.0255 (0.0127)  loss_d: -0.0328 (-0.0030)  loss: -0.0895 (0.0098)  time: 0.0407  data: 0.0000  max mem: 0\n",
      "Epoch: [1] Total time: 0:00:01\n",
      "Epoch: [2]  [ 0/49]  eta: 0:00:02  loss_g: -0.3898 (-0.3898)  loss_d: -0.0120 (-0.0120)  loss: -0.4018 (-0.4018)  time: 0.0420  data: 0.0000  max mem: 0\n",
      "Epoch: [2]  [49/49]  eta: 0:00:00  loss_g: -0.3948 (-0.3250)  loss_d: 0.0194 (0.0453)  loss: -0.3732 (-0.2797)  time: 0.0391  data: 0.0000  max mem: 0\n",
      "Epoch: [2] Total time: 0:00:01\n",
      "Epoch: [3]  [ 0/49]  eta: 0:00:01  loss_g: -0.3875 (-0.3875)  loss_d: -0.0038 (-0.0038)  loss: -0.3913 (-0.3913)  time: 0.0313  data: 0.0000  max mem: 0\n",
      "Epoch: [3]  [49/49]  eta: 0:00:00  loss_g: -0.7089 (-0.5716)  loss_d: 0.0740 (0.0151)  loss: -0.6237 (-0.5565)  time: 0.0469  data: 0.0000  max mem: 0\n",
      "Epoch: [3] Total time: 0:00:02\n",
      "Epoch: [4]  [ 0/49]  eta: 0:00:02  loss_g: -0.5895 (-0.5895)  loss_d: 0.1999 (0.1999)  loss: -0.3896 (-0.3896)  time: 0.0402  data: 0.0000  max mem: 0\n",
      "Epoch: [4]  [49/49]  eta: 0:00:00  loss_g: -0.8046 (-0.7010)  loss_d: 0.1112 (0.0482)  loss: -0.6633 (-0.6528)  time: 0.0423  data: 0.0000  max mem: 0\n",
      "Epoch: [4] Total time: 0:00:02\n",
      "Epoch: [5]  [ 0/49]  eta: 0:00:01  loss_g: -0.8314 (-0.8314)  loss_d: 0.0027 (0.0027)  loss: -0.8287 (-0.8287)  time: 0.0368  data: 0.0000  max mem: 0\n",
      "Epoch: [5]  [49/49]  eta: 0:00:00  loss_g: -0.9774 (-0.9075)  loss_d: 0.0843 (-0.0402)  loss: -0.9806 (-0.9477)  time: 0.0442  data: 0.0000  max mem: 0\n",
      "Epoch: [5] Total time: 0:00:02\n",
      "Epoch: [6]  [ 0/49]  eta: 0:00:01  loss_g: -1.2849 (-1.2849)  loss_d: 0.2522 (0.2522)  loss: -1.0327 (-1.0327)  time: 0.0342  data: 0.0000  max mem: 0\n",
      "Epoch: [6]  [49/49]  eta: 0:00:00  loss_g: -0.9985 (-1.0499)  loss_d: -0.0997 (0.0323)  loss: -1.0807 (-1.0176)  time: 0.0393  data: 0.0000  max mem: 0\n",
      "Epoch: [6] Total time: 0:00:02\n",
      "Epoch: [7]  [ 0/49]  eta: 0:00:02  loss_g: -1.0898 (-1.0898)  loss_d: -0.1255 (-0.1255)  loss: -1.2153 (-1.2153)  time: 0.0404  data: 0.0000  max mem: 0\n",
      "Epoch: [7]  [49/49]  eta: 0:00:00  loss_g: -1.2270 (-1.1660)  loss_d: 0.0016 (0.0170)  loss: -1.1885 (-1.1490)  time: 0.0488  data: 0.0000  max mem: 0\n",
      "Epoch: [7] Total time: 0:00:02\n",
      "Epoch: [8]  [ 0/49]  eta: 0:00:02  loss_g: -1.3809 (-1.3809)  loss_d: -0.0998 (-0.0998)  loss: -1.4808 (-1.4808)  time: 0.0447  data: 0.0000  max mem: 0\n",
      "Epoch: [8]  [49/49]  eta: 0:00:00  loss_g: -1.5224 (-1.4055)  loss_d: -0.0208 (0.0500)  loss: -1.4959 (-1.3555)  time: 0.0406  data: 0.0000  max mem: 0\n",
      "Epoch: [8] Total time: 0:00:02\n",
      "Epoch: [9]  [ 0/49]  eta: 0:00:01  loss_g: -1.5095 (-1.5095)  loss_d: 0.2633 (0.2633)  loss: -1.2461 (-1.2461)  time: 0.0380  data: 0.0000  max mem: 0\n",
      "Epoch: [9]  [49/49]  eta: 0:00:00  loss_g: -1.6710 (-1.5594)  loss_d: 0.0409 (0.0067)  loss: -1.5988 (-1.5527)  time: 0.0393  data: 0.0000  max mem: 0\n",
      "Epoch: [9] Total time: 0:00:01\n",
      "Epoch: [10]  [ 0/49]  eta: 0:00:01  loss_g: -1.9447 (-1.9447)  loss_d: 0.1743 (0.1743)  loss: -1.7704 (-1.7704)  time: 0.0398  data: 0.0000  max mem: 0\n",
      "Epoch: [10]  [49/49]  eta: 0:00:00  loss_g: -1.9757 (-1.8057)  loss_d: 0.0412 (-0.0145)  loss: -1.9534 (-1.8202)  time: 0.0390  data: 0.0000  max mem: 0\n",
      "Epoch: [10] Total time: 0:00:02\n",
      "Epoch: [11]  [ 0/49]  eta: 0:00:01  loss_g: -2.0500 (-2.0500)  loss_d: -0.0111 (-0.0111)  loss: -2.0611 (-2.0611)  time: 0.0385  data: 0.0000  max mem: 0\n",
      "Epoch: [11]  [49/49]  eta: 0:00:00  loss_g: -1.8827 (-1.8373)  loss_d: 0.0631 (0.0330)  loss: -1.7477 (-1.8043)  time: 0.0436  data: 0.0000  max mem: 0\n",
      "Epoch: [11] Total time: 0:00:02\n",
      "Epoch: [12]  [ 0/49]  eta: 0:00:02  loss_g: -1.7626 (-1.7626)  loss_d: -0.0295 (-0.0295)  loss: -1.7921 (-1.7921)  time: 0.0437  data: 0.0000  max mem: 0\n",
      "Epoch: [12]  [49/49]  eta: 0:00:00  loss_g: -1.8965 (-1.8952)  loss_d: -0.0014 (0.0169)  loss: -1.8292 (-1.8783)  time: 0.0387  data: 0.0000  max mem: 0\n",
      "Epoch: [12] Total time: 0:00:02\n",
      "Epoch: [13]  [ 0/49]  eta: 0:00:02  loss_g: -1.6595 (-1.6595)  loss_d: -0.1823 (-0.1823)  loss: -1.8418 (-1.8418)  time: 0.0432  data: 0.0000  max mem: 0\n",
      "Epoch: [13]  [49/49]  eta: 0:00:00  loss_g: -2.0069 (-1.9326)  loss_d: 0.0155 (-0.0167)  loss: -2.0117 (-1.9493)  time: 0.0391  data: 0.0000  max mem: 0\n",
      "Epoch: [13] Total time: 0:00:01\n",
      "Epoch: [14]  [ 0/49]  eta: 0:00:02  loss_g: -2.1331 (-2.1331)  loss_d: -0.0126 (-0.0126)  loss: -2.1457 (-2.1457)  time: 0.0401  data: 0.0000  max mem: 0\n",
      "Epoch: [14]  [49/49]  eta: 0:00:00  loss_g: -1.9328 (-1.9548)  loss_d: -0.0512 (-0.0280)  loss: -1.9738 (-1.9828)  time: 0.0408  data: 0.0000  max mem: 0\n",
      "Epoch: [14] Total time: 0:00:02\n",
      "Epoch: [15]  [ 0/49]  eta: 0:00:02  loss_g: -1.8069 (-1.8069)  loss_d: 0.2119 (0.2119)  loss: -1.5949 (-1.5949)  time: 0.0424  data: 0.0000  max mem: 0\n",
      "Epoch: [15]  [49/49]  eta: 0:00:00  loss_g: -2.1107 (-2.0141)  loss_d: 0.0187 (0.0569)  loss: -2.0783 (-1.9572)  time: 0.0389  data: 0.0000  max mem: 0\n",
      "Epoch: [15] Total time: 0:00:01\n",
      "Epoch: [16]  [ 0/49]  eta: 0:00:02  loss_g: -2.0485 (-2.0485)  loss_d: -0.2865 (-0.2865)  loss: -2.3350 (-2.3350)  time: 0.0437  data: 0.0000  max mem: 0\n",
      "Epoch: [16]  [49/49]  eta: 0:00:00  loss_g: -2.1063 (-2.0732)  loss_d: 0.0403 (-0.0461)  loss: -2.0721 (-2.1193)  time: 0.0373  data: 0.0000  max mem: 0\n",
      "Epoch: [16] Total time: 0:00:01\n",
      "Epoch: [17]  [ 0/49]  eta: 0:00:01  loss_g: -2.1933 (-2.1933)  loss_d: -0.0364 (-0.0364)  loss: -2.2296 (-2.2296)  time: 0.0366  data: 0.0000  max mem: 0\n",
      "Epoch: [17]  [49/49]  eta: 0:00:00  loss_g: -2.0877 (-2.1896)  loss_d: -0.0570 (-0.0229)  loss: -2.1397 (-2.2125)  time: 0.0352  data: 0.0000  max mem: 0\n",
      "Epoch: [17] Total time: 0:00:01\n",
      "Epoch: [18]  [ 0/49]  eta: 0:00:01  loss_g: -2.2908 (-2.2908)  loss_d: -0.0839 (-0.0839)  loss: -2.3748 (-2.3748)  time: 0.0356  data: 0.0000  max mem: 0\n",
      "Epoch: [18]  [49/49]  eta: 0:00:00  loss_g: -2.0626 (-2.0806)  loss_d: -0.0754 (0.0177)  loss: -2.1535 (-2.0629)  time: 0.0353  data: 0.0000  max mem: 0\n",
      "Epoch: [18] Total time: 0:00:01\n",
      "Epoch: [19]  [ 0/49]  eta: 0:00:01  loss_g: -1.9532 (-1.9532)  loss_d: 0.0508 (0.0508)  loss: -1.9024 (-1.9024)  time: 0.0368  data: 0.0000  max mem: 0\n",
      "Epoch: [19]  [49/49]  eta: 0:00:00  loss_g: -2.1331 (-2.2068)  loss_d: -0.0524 (-0.0004)  loss: -2.2231 (-2.2073)  time: 0.0352  data: 0.0000  max mem: 0\n",
      "Epoch: [19] Total time: 0:00:01\n",
      "Epoch: [20]  [ 0/49]  eta: 0:00:01  loss_g: -1.9916 (-1.9916)  loss_d: -0.1228 (-0.1228)  loss: -2.1144 (-2.1144)  time: 0.0362  data: 0.0000  max mem: 0\n",
      "Epoch: [20]  [49/49]  eta: 0:00:00  loss_g: -2.2417 (-2.2213)  loss_d: -0.0782 (-0.0367)  loss: -2.3027 (-2.2580)  time: 0.0358  data: 0.0000  max mem: 0\n",
      "Epoch: [20] Total time: 0:00:01\n",
      "Epoch: [21]  [ 0/49]  eta: 0:00:01  loss_g: -2.2719 (-2.2719)  loss_d: 0.1181 (0.1181)  loss: -2.1538 (-2.1538)  time: 0.0369  data: 0.0000  max mem: 0\n",
      "Epoch: [21]  [49/49]  eta: 0:00:00  loss_g: -2.2451 (-2.2207)  loss_d: -0.0428 (-0.0343)  loss: -2.2344 (-2.2550)  time: 0.0371  data: 0.0000  max mem: 0\n",
      "Epoch: [21] Total time: 0:00:01\n",
      "Epoch: [22]  [ 0/49]  eta: 0:00:01  loss_g: -2.2742 (-2.2742)  loss_d: -0.2324 (-0.2324)  loss: -2.5066 (-2.5066)  time: 0.0354  data: 0.0000  max mem: 0\n",
      "Epoch: [22]  [49/49]  eta: 0:00:00  loss_g: -2.4304 (-2.4170)  loss_d: 0.0149 (-0.0124)  loss: -2.3880 (-2.4294)  time: 0.0361  data: 0.0000  max mem: 0\n",
      "Epoch: [22] Total time: 0:00:01\n",
      "Epoch: [23]  [ 0/49]  eta: 0:00:02  loss_g: -2.3375 (-2.3375)  loss_d: 0.2831 (0.2831)  loss: -2.0544 (-2.0544)  time: 0.0401  data: 0.0000  max mem: 0\n",
      "Epoch: [23]  [49/49]  eta: 0:00:00  loss_g: -2.3664 (-2.2856)  loss_d: 0.0475 (-0.0101)  loss: -2.3500 (-2.2957)  time: 0.0347  data: 0.0000  max mem: 0\n",
      "Epoch: [23] Total time: 0:00:01\n",
      "Epoch: [24]  [ 0/49]  eta: 0:00:02  loss_g: -2.4477 (-2.4477)  loss_d: 0.3418 (0.3418)  loss: -2.1058 (-2.1058)  time: 0.0414  data: 0.0000  max mem: 0\n",
      "Epoch: [24]  [49/49]  eta: 0:00:00  loss_g: -2.3379 (-2.3592)  loss_d: 0.0299 (0.0027)  loss: -2.3175 (-2.3566)  time: 0.0349  data: 0.0000  max mem: 0\n",
      "Epoch: [24] Total time: 0:00:01\n",
      "Epoch: [25]  [ 0/49]  eta: 0:00:01  loss_g: -2.3748 (-2.3748)  loss_d: -0.0065 (-0.0065)  loss: -2.3814 (-2.3814)  time: 0.0343  data: 0.0000  max mem: 0\n",
      "Epoch: [25]  [49/49]  eta: 0:00:00  loss_g: -2.3226 (-2.2977)  loss_d: 0.0046 (0.0038)  loss: -2.2783 (-2.2939)  time: 0.0340  data: 0.0000  max mem: 0\n",
      "Epoch: [25] Total time: 0:00:01\n",
      "Epoch: [26]  [ 0/49]  eta: 0:00:01  loss_g: -2.2782 (-2.2782)  loss_d: -0.1981 (-0.1981)  loss: -2.4762 (-2.4762)  time: 0.0343  data: 0.0000  max mem: 0\n",
      "Epoch: [26]  [49/49]  eta: 0:00:00  loss_g: -2.3487 (-2.3304)  loss_d: 0.0009 (-0.0283)  loss: -2.3347 (-2.3587)  time: 0.0359  data: 0.0000  max mem: 0\n",
      "Epoch: [26] Total time: 0:00:01\n",
      "Epoch: [27]  [ 0/49]  eta: 0:00:01  loss_g: -2.3994 (-2.3994)  loss_d: -0.0139 (-0.0139)  loss: -2.4132 (-2.4132)  time: 0.0374  data: 0.0000  max mem: 0\n",
      "Epoch: [27]  [49/49]  eta: 0:00:00  loss_g: -2.2243 (-2.3550)  loss_d: -0.0477 (0.0049)  loss: -2.2720 (-2.3501)  time: 0.0378  data: 0.0000  max mem: 0\n",
      "Epoch: [27] Total time: 0:00:01\n",
      "Epoch: [28]  [ 0/49]  eta: 0:00:01  loss_g: -2.2874 (-2.2874)  loss_d: -0.1814 (-0.1814)  loss: -2.4688 (-2.4688)  time: 0.0379  data: 0.0000  max mem: 0\n",
      "Epoch: [28]  [49/49]  eta: 0:00:00  loss_g: -2.4584 (-2.3678)  loss_d: -0.0181 (-0.0150)  loss: -2.4234 (-2.3827)  time: 0.0353  data: 0.0000  max mem: 0\n",
      "Epoch: [28] Total time: 0:00:01\n",
      "Epoch: [29]  [ 0/49]  eta: 0:00:01  loss_g: -2.4805 (-2.4805)  loss_d: 0.0050 (0.0050)  loss: -2.4755 (-2.4755)  time: 0.0355  data: 0.0000  max mem: 0\n",
      "Epoch: [29]  [49/49]  eta: 0:00:00  loss_g: -2.3150 (-2.3255)  loss_d: -0.0435 (-0.0150)  loss: -2.3564 (-2.3405)  time: 0.0349  data: 0.0000  max mem: 0\n",
      "Epoch: [29] Total time: 0:00:01\n",
      "Epoch: [30]  [ 0/49]  eta: 0:00:01  loss_g: -2.3058 (-2.3058)  loss_d: -0.0466 (-0.0466)  loss: -2.3524 (-2.3524)  time: 0.0353  data: 0.0000  max mem: 0\n",
      "Epoch: [30]  [49/49]  eta: 0:00:00  loss_g: -2.4525 (-2.4627)  loss_d: -0.0327 (-0.0139)  loss: -2.4690 (-2.4766)  time: 0.0357  data: 0.0000  max mem: 0\n",
      "Epoch: [30] Total time: 0:00:01\n",
      "Epoch: [31]  [ 0/49]  eta: 0:00:01  loss_g: -2.2807 (-2.2807)  loss_d: 0.0983 (0.0983)  loss: -2.1825 (-2.1825)  time: 0.0378  data: 0.0000  max mem: 0\n",
      "Epoch: [31]  [49/49]  eta: 0:00:00  loss_g: -2.5097 (-2.5035)  loss_d: 0.0445 (-0.0010)  loss: -2.4538 (-2.5044)  time: 0.0355  data: 0.0000  max mem: 0\n",
      "Epoch: [31] Total time: 0:00:01\n",
      "Epoch: [32]  [ 0/49]  eta: 0:00:02  loss_g: -2.5132 (-2.5132)  loss_d: -0.1343 (-0.1343)  loss: -2.6475 (-2.6475)  time: 0.0410  data: 0.0000  max mem: 0\n",
      "Epoch: [32]  [49/49]  eta: 0:00:00  loss_g: -2.2747 (-2.3659)  loss_d: -0.0310 (-0.0082)  loss: -2.2969 (-2.3741)  time: 0.0339  data: 0.0000  max mem: 0\n",
      "Epoch: [32] Total time: 0:00:01\n",
      "Epoch: [33]  [ 0/49]  eta: 0:00:01  loss_g: -2.3953 (-2.3953)  loss_d: -0.1612 (-0.1612)  loss: -2.5565 (-2.5565)  time: 0.0351  data: 0.0000  max mem: 0\n",
      "Epoch: [33]  [49/49]  eta: 0:00:00  loss_g: -2.3922 (-2.3773)  loss_d: -0.0629 (-0.0027)  loss: -2.4662 (-2.3800)  time: 0.0360  data: 0.0000  max mem: 0\n",
      "Epoch: [33] Total time: 0:00:01\n",
      "Epoch: [34]  [ 0/49]  eta: 0:00:01  loss_g: -2.2598 (-2.2598)  loss_d: -0.2501 (-0.2501)  loss: -2.5100 (-2.5100)  time: 0.0360  data: 0.0000  max mem: 0\n",
      "Epoch: [34]  [49/49]  eta: 0:00:00  loss_g: -2.4973 (-2.4727)  loss_d: -0.1404 (-0.0760)  loss: -2.6094 (-2.5487)  time: 0.0348  data: 0.0000  max mem: 0\n",
      "Epoch: [34] Total time: 0:00:01\n",
      "Epoch: [35]  [ 0/49]  eta: 0:00:01  loss_g: -2.4888 (-2.4888)  loss_d: 0.3091 (0.3091)  loss: -2.1797 (-2.1797)  time: 0.0331  data: 0.0000  max mem: 0\n",
      "Epoch: [35]  [49/49]  eta: 0:00:00  loss_g: -2.2969 (-2.3392)  loss_d: -0.1063 (-0.0502)  loss: -2.3903 (-2.3894)  time: 0.0356  data: 0.0000  max mem: 0\n",
      "Epoch: [35] Total time: 0:00:01\n",
      "Epoch: [36]  [ 0/49]  eta: 0:00:01  loss_g: -2.4201 (-2.4201)  loss_d: -0.2124 (-0.2124)  loss: -2.6325 (-2.6325)  time: 0.0352  data: 0.0000  max mem: 0\n",
      "Epoch: [36]  [49/49]  eta: 0:00:00  loss_g: -2.2878 (-2.3787)  loss_d: -0.1090 (-0.0474)  loss: -2.3826 (-2.4261)  time: 0.0354  data: 0.0000  max mem: 0\n",
      "Epoch: [36] Total time: 0:00:01\n",
      "Epoch: [37]  [ 0/49]  eta: 0:00:02  loss_g: -2.3420 (-2.3420)  loss_d: -0.0503 (-0.0503)  loss: -2.3923 (-2.3923)  time: 0.0405  data: 0.0000  max mem: 0\n",
      "Epoch: [37]  [49/49]  eta: 0:00:00  loss_g: -2.2758 (-2.3451)  loss_d: -0.0687 (-0.0182)  loss: -2.3681 (-2.3633)  time: 0.0352  data: 0.0000  max mem: 0\n",
      "Epoch: [37] Total time: 0:00:01\n",
      "Epoch: [38]  [ 0/49]  eta: 0:00:01  loss_g: -2.2485 (-2.2485)  loss_d: 0.0730 (0.0730)  loss: -2.1754 (-2.1754)  time: 0.0319  data: 0.0000  max mem: 0\n",
      "Epoch: [38]  [49/49]  eta: 0:00:00  loss_g: -2.3796 (-2.3473)  loss_d: 0.0399 (0.0002)  loss: -2.2971 (-2.3472)  time: 0.0355  data: 0.0000  max mem: 0\n",
      "Epoch: [38] Total time: 0:00:01\n",
      "Epoch: [39]  [ 0/49]  eta: 0:00:01  loss_g: -2.3418 (-2.3418)  loss_d: -0.0406 (-0.0406)  loss: -2.3825 (-2.3825)  time: 0.0381  data: 0.0000  max mem: 0\n",
      "Epoch: [39]  [49/49]  eta: 0:00:00  loss_g: -2.3940 (-2.3830)  loss_d: -0.0981 (-0.0477)  loss: -2.4477 (-2.4307)  time: 0.0392  data: 0.0000  max mem: 0\n",
      "Epoch: [39] Total time: 0:00:01\n",
      "Epoch: [40]  [ 0/49]  eta: 0:00:01  loss_g: -2.3583 (-2.3583)  loss_d: -0.2289 (-0.2289)  loss: -2.5872 (-2.5872)  time: 0.0397  data: 0.0000  max mem: 0\n",
      "Epoch: [40]  [49/49]  eta: 0:00:00  loss_g: -2.3025 (-2.3224)  loss_d: 0.0676 (0.0306)  loss: -2.2437 (-2.2918)  time: 0.0349  data: 0.0000  max mem: 0\n",
      "Epoch: [40] Total time: 0:00:01\n",
      "Epoch: [41]  [ 0/49]  eta: 0:00:01  loss_g: -2.2281 (-2.2281)  loss_d: -0.2028 (-0.2028)  loss: -2.4309 (-2.4309)  time: 0.0375  data: 0.0000  max mem: 0\n",
      "Epoch: [41]  [49/49]  eta: 0:00:00  loss_g: -2.3867 (-2.2844)  loss_d: 0.0283 (-0.0248)  loss: -2.3920 (-2.3092)  time: 0.0353  data: 0.0000  max mem: 0\n",
      "Epoch: [41] Total time: 0:00:01\n",
      "Epoch: [42]  [ 0/49]  eta: 0:00:01  loss_g: -2.4418 (-2.4418)  loss_d: 0.2752 (0.2752)  loss: -2.1666 (-2.1666)  time: 0.0361  data: 0.0000  max mem: 0\n",
      "Epoch: [42]  [49/49]  eta: 0:00:00  loss_g: -2.3504 (-2.3770)  loss_d: -0.0772 (-0.0434)  loss: -2.4256 (-2.4204)  time: 0.0353  data: 0.0000  max mem: 0\n",
      "Epoch: [42] Total time: 0:00:01\n",
      "Epoch: [43]  [ 0/49]  eta: 0:00:01  loss_g: -2.3636 (-2.3636)  loss_d: -0.0312 (-0.0312)  loss: -2.3948 (-2.3948)  time: 0.0358  data: 0.0000  max mem: 0\n",
      "Epoch: [43]  [49/49]  eta: 0:00:00  loss_g: -2.3944 (-2.3866)  loss_d: -0.0692 (-0.0290)  loss: -2.5083 (-2.4156)  time: 0.0357  data: 0.0000  max mem: 0\n",
      "Epoch: [43] Total time: 0:00:01\n",
      "Epoch: [44]  [ 0/49]  eta: 0:00:01  loss_g: -2.2601 (-2.2601)  loss_d: -0.3687 (-0.3687)  loss: -2.6288 (-2.6288)  time: 0.0289  data: 0.0000  max mem: 0\n",
      "Epoch: [44]  [49/49]  eta: 0:00:00  loss_g: -2.4384 (-2.4303)  loss_d: -0.0175 (-0.0289)  loss: -2.4248 (-2.4591)  time: 0.0353  data: 0.0001  max mem: 0\n",
      "Epoch: [44] Total time: 0:00:01\n",
      "Epoch: [45]  [ 0/49]  eta: 0:00:01  loss_g: -2.2659 (-2.2659)  loss_d: 0.2066 (0.2066)  loss: -2.0593 (-2.0593)  time: 0.0371  data: 0.0000  max mem: 0\n",
      "Epoch: [45]  [49/49]  eta: 0:00:00  loss_g: -2.2616 (-2.2322)  loss_d: -0.0042 (0.0053)  loss: -2.2369 (-2.2269)  time: 0.0358  data: 0.0000  max mem: 0\n",
      "Epoch: [45] Total time: 0:00:01\n",
      "Epoch: [46]  [ 0/49]  eta: 0:00:01  loss_g: -2.1945 (-2.1945)  loss_d: -0.2473 (-0.2473)  loss: -2.4418 (-2.4418)  time: 0.0323  data: 0.0000  max mem: 0\n",
      "Epoch: [46]  [49/49]  eta: 0:00:00  loss_g: -2.3607 (-2.3664)  loss_d: -0.0076 (-0.0105)  loss: -2.3303 (-2.3769)  time: 0.0349  data: 0.0000  max mem: 0\n",
      "Epoch: [46] Total time: 0:00:01\n",
      "Epoch: [47]  [ 0/49]  eta: 0:00:01  loss_g: -2.3643 (-2.3643)  loss_d: -0.0025 (-0.0025)  loss: -2.3667 (-2.3667)  time: 0.0300  data: 0.0000  max mem: 0\n",
      "Epoch: [47]  [49/49]  eta: 0:00:00  loss_g: -2.3240 (-2.3105)  loss_d: -0.0892 (-0.0380)  loss: -2.3981 (-2.3485)  time: 0.0360  data: 0.0000  max mem: 0\n",
      "Epoch: [47] Total time: 0:00:01\n",
      "Epoch: [48]  [ 0/49]  eta: 0:00:01  loss_g: -2.3740 (-2.3740)  loss_d: 0.1471 (0.1471)  loss: -2.2269 (-2.2269)  time: 0.0343  data: 0.0000  max mem: 0\n",
      "Epoch: [48]  [49/49]  eta: 0:00:00  loss_g: -2.5449 (-2.4650)  loss_d: -0.0526 (-0.0223)  loss: -2.6112 (-2.4873)  time: 0.0350  data: 0.0000  max mem: 0\n",
      "Epoch: [48] Total time: 0:00:01\n",
      "Epoch: [49]  [ 0/49]  eta: 0:00:01  loss_g: -2.3876 (-2.3876)  loss_d: -0.0062 (-0.0062)  loss: -2.3938 (-2.3938)  time: 0.0370  data: 0.0000  max mem: 0\n",
      "Epoch: [49]  [49/49]  eta: 0:00:00  loss_g: -2.5104 (-2.4645)  loss_d: 0.0452 (0.0287)  loss: -2.4226 (-2.4358)  time: 0.0348  data: 0.0000  max mem: 0\n",
      "Epoch: [49] Total time: 0:00:01\n",
      "Epoch: [50]  [ 0/49]  eta: 0:00:01  loss_g: -2.4884 (-2.4884)  loss_d: -0.0848 (-0.0848)  loss: -2.5732 (-2.5732)  time: 0.0331  data: 0.0000  max mem: 0\n",
      "Epoch: [50]  [49/49]  eta: 0:00:00  loss_g: -2.3774 (-2.3737)  loss_d: -0.0073 (-0.0223)  loss: -2.3610 (-2.3960)  time: 0.0356  data: 0.0000  max mem: 0\n",
      "Epoch: [50] Total time: 0:00:01\n",
      "Epoch: [51]  [ 0/49]  eta: 0:00:01  loss_g: -2.3072 (-2.3072)  loss_d: -0.2179 (-0.2179)  loss: -2.5251 (-2.5251)  time: 0.0393  data: 0.0000  max mem: 0\n",
      "Epoch: [51]  [49/49]  eta: 0:00:00  loss_g: -2.4158 (-2.3709)  loss_d: 0.0220 (-0.0134)  loss: -2.3997 (-2.3843)  time: 0.0357  data: 0.0000  max mem: 0\n",
      "Epoch: [51] Total time: 0:00:01\n",
      "Epoch: [52]  [ 0/49]  eta: 0:00:02  loss_g: -2.4366 (-2.4366)  loss_d: 0.1106 (0.1106)  loss: -2.3260 (-2.3260)  time: 0.0413  data: 0.0000  max mem: 0\n",
      "Epoch: [52]  [49/49]  eta: 0:00:00  loss_g: -2.3384 (-2.4045)  loss_d: -0.0905 (-0.0189)  loss: -2.4218 (-2.4234)  time: 0.0354  data: 0.0000  max mem: 0\n",
      "Epoch: [52] Total time: 0:00:01\n",
      "Epoch: [53]  [ 0/49]  eta: 0:00:01  loss_g: -2.3752 (-2.3752)  loss_d: 0.2056 (0.2056)  loss: -2.1696 (-2.1696)  time: 0.0370  data: 0.0000  max mem: 0\n",
      "Epoch: [53]  [49/49]  eta: 0:00:00  loss_g: -2.3774 (-2.3731)  loss_d: 0.0918 (0.0276)  loss: -2.2504 (-2.3454)  time: 0.0346  data: 0.0000  max mem: 0\n",
      "Epoch: [53] Total time: 0:00:01\n",
      "Epoch: [54]  [ 0/49]  eta: 0:00:01  loss_g: -2.4592 (-2.4592)  loss_d: 0.1880 (0.1880)  loss: -2.2712 (-2.2712)  time: 0.0363  data: 0.0000  max mem: 0\n",
      "Epoch: [54]  [49/49]  eta: 0:00:00  loss_g: -2.5294 (-2.4761)  loss_d: 0.0427 (0.0036)  loss: -2.5290 (-2.4725)  time: 0.0351  data: 0.0000  max mem: 0\n",
      "Epoch: [54] Total time: 0:00:01\n",
      "Epoch: [55]  [ 0/49]  eta: 0:00:01  loss_g: -2.5781 (-2.5781)  loss_d: -0.1731 (-0.1731)  loss: -2.7512 (-2.7512)  time: 0.0310  data: 0.0000  max mem: 0\n",
      "Epoch: [55]  [49/49]  eta: 0:00:00  loss_g: -2.4319 (-2.4122)  loss_d: -0.0035 (-0.0292)  loss: -2.3924 (-2.4414)  time: 0.0347  data: 0.0000  max mem: 0\n",
      "Epoch: [55] Total time: 0:00:01\n",
      "Epoch: [56]  [ 0/49]  eta: 0:00:01  loss_g: -2.2315 (-2.2315)  loss_d: 0.0875 (0.0875)  loss: -2.1440 (-2.1440)  time: 0.0363  data: 0.0000  max mem: 0\n",
      "Epoch: [56]  [49/49]  eta: 0:00:00  loss_g: -2.5569 (-2.5103)  loss_d: 0.0466 (-0.0138)  loss: -2.4716 (-2.5242)  time: 0.0348  data: 0.0000  max mem: 0\n",
      "Epoch: [56] Total time: 0:00:01\n",
      "Epoch: [57]  [ 0/49]  eta: 0:00:01  loss_g: -2.5887 (-2.5887)  loss_d: 0.1309 (0.1309)  loss: -2.4578 (-2.4578)  time: 0.0294  data: 0.0000  max mem: 0\n",
      "Epoch: [57]  [49/49]  eta: 0:00:00  loss_g: -2.4461 (-2.4206)  loss_d: 0.0122 (-0.0221)  loss: -2.3875 (-2.4427)  time: 0.0358  data: 0.0000  max mem: 0\n",
      "Epoch: [57] Total time: 0:00:01\n",
      "Epoch: [58]  [ 0/49]  eta: 0:00:01  loss_g: -2.3650 (-2.3650)  loss_d: -0.1001 (-0.1001)  loss: -2.4652 (-2.4652)  time: 0.0323  data: 0.0000  max mem: 0\n",
      "Epoch: [58]  [49/49]  eta: 0:00:00  loss_g: -2.4104 (-2.4299)  loss_d: 0.0167 (0.0281)  loss: -2.4618 (-2.4018)  time: 0.0357  data: 0.0000  max mem: 0\n",
      "Epoch: [58] Total time: 0:00:01\n",
      "Epoch: [59]  [ 0/49]  eta: 0:00:01  loss_g: -2.3568 (-2.3568)  loss_d: 0.0007 (0.0007)  loss: -2.3561 (-2.3561)  time: 0.0362  data: 0.0000  max mem: 0\n",
      "Epoch: [59]  [49/49]  eta: 0:00:00  loss_g: -2.3239 (-2.3834)  loss_d: 0.0093 (0.0094)  loss: -2.3078 (-2.3740)  time: 0.0354  data: 0.0000  max mem: 0\n",
      "Epoch: [59] Total time: 0:00:01\n",
      "Epoch: [60]  [ 0/49]  eta: 0:00:01  loss_g: -2.3500 (-2.3500)  loss_d: -0.1141 (-0.1141)  loss: -2.4641 (-2.4641)  time: 0.0336  data: 0.0000  max mem: 0\n",
      "Epoch: [60]  [49/49]  eta: 0:00:00  loss_g: -2.2773 (-2.3126)  loss_d: -0.0345 (-0.0417)  loss: -2.3436 (-2.3543)  time: 0.0349  data: 0.0000  max mem: 0\n",
      "Epoch: [60] Total time: 0:00:01\n",
      "Epoch: [61]  [ 0/49]  eta: 0:00:01  loss_g: -2.2211 (-2.2211)  loss_d: 0.1440 (0.1440)  loss: -2.0771 (-2.0771)  time: 0.0382  data: 0.0000  max mem: 0\n",
      "Epoch: [61]  [49/49]  eta: 0:00:00  loss_g: -2.3166 (-2.3801)  loss_d: -0.0234 (0.0048)  loss: -2.3301 (-2.3753)  time: 0.0406  data: 0.0000  max mem: 0\n",
      "Epoch: [61] Total time: 0:00:02\n",
      "Epoch: [62]  [ 0/49]  eta: 0:00:01  loss_g: -2.4976 (-2.4976)  loss_d: 0.0518 (0.0518)  loss: -2.4459 (-2.4459)  time: 0.0374  data: 0.0000  max mem: 0\n",
      "Epoch: [62]  [49/49]  eta: 0:00:00  loss_g: -2.3902 (-2.3951)  loss_d: -0.0284 (-0.0220)  loss: -2.4993 (-2.4172)  time: 0.0403  data: 0.0000  max mem: 0\n",
      "Epoch: [62] Total time: 0:00:02\n",
      "Epoch: [63]  [ 0/49]  eta: 0:00:02  loss_g: -2.3971 (-2.3971)  loss_d: 0.1328 (0.1328)  loss: -2.2644 (-2.2644)  time: 0.0420  data: 0.0000  max mem: 0\n",
      "Epoch: [63]  [49/49]  eta: 0:00:00  loss_g: -2.5036 (-2.4670)  loss_d: -0.0245 (0.0131)  loss: -2.5203 (-2.4539)  time: 0.0399  data: 0.0000  max mem: 0\n",
      "Epoch: [63] Total time: 0:00:02\n",
      "Epoch: [64]  [ 0/49]  eta: 0:00:02  loss_g: -2.2549 (-2.2549)  loss_d: 0.0396 (0.0396)  loss: -2.2153 (-2.2153)  time: 0.0457  data: 0.0000  max mem: 0\n",
      "Epoch: [64]  [49/49]  eta: 0:00:00  loss_g: -2.4426 (-2.4175)  loss_d: 0.0380 (-0.0003)  loss: -2.3484 (-2.4178)  time: 0.0400  data: 0.0000  max mem: 0\n",
      "Epoch: [64] Total time: 0:00:01\n",
      "Epoch: [65]  [ 0/49]  eta: 0:00:02  loss_g: -2.4388 (-2.4388)  loss_d: 0.2407 (0.2407)  loss: -2.1981 (-2.1981)  time: 0.0424  data: 0.0000  max mem: 0\n",
      "Epoch: [65]  [49/49]  eta: 0:00:00  loss_g: -2.4716 (-2.4783)  loss_d: -0.0787 (-0.0402)  loss: -2.5733 (-2.5186)  time: 0.0398  data: 0.0000  max mem: 0\n",
      "Epoch: [65] Total time: 0:00:02\n",
      "Epoch: [66]  [ 0/49]  eta: 0:00:01  loss_g: -2.4239 (-2.4239)  loss_d: -0.0790 (-0.0790)  loss: -2.5029 (-2.5029)  time: 0.0383  data: 0.0000  max mem: 0\n",
      "Epoch: [66]  [49/49]  eta: 0:00:00  loss_g: -2.5277 (-2.4394)  loss_d: -0.0011 (-0.0121)  loss: -2.4913 (-2.4514)  time: 0.0411  data: 0.0000  max mem: 0\n",
      "Epoch: [66] Total time: 0:00:02\n",
      "Epoch: [67]  [ 0/49]  eta: 0:00:01  loss_g: -2.6139 (-2.6139)  loss_d: -0.1887 (-0.1887)  loss: -2.8026 (-2.8026)  time: 0.0373  data: 0.0000  max mem: 0\n",
      "Epoch: [67]  [49/49]  eta: 0:00:00  loss_g: -2.6694 (-2.6063)  loss_d: -0.0472 (-0.0132)  loss: -2.7194 (-2.6194)  time: 0.0394  data: 0.0000  max mem: 0\n",
      "Epoch: [67] Total time: 0:00:01\n",
      "Epoch: [68]  [ 0/49]  eta: 0:00:02  loss_g: -2.8052 (-2.8052)  loss_d: -0.1269 (-0.1269)  loss: -2.9321 (-2.9321)  time: 0.0416  data: 0.0000  max mem: 0\n",
      "Epoch: [68]  [49/49]  eta: 0:00:00  loss_g: -2.4677 (-2.5301)  loss_d: -0.0692 (0.0056)  loss: -2.5568 (-2.5245)  time: 0.0401  data: 0.0000  max mem: 0\n",
      "Epoch: [68] Total time: 0:00:02\n",
      "Epoch: [69]  [ 0/49]  eta: 0:00:02  loss_g: -2.5827 (-2.5827)  loss_d: 0.0031 (0.0031)  loss: -2.5795 (-2.5795)  time: 0.0433  data: 0.0000  max mem: 0\n",
      "Epoch: [69]  [49/49]  eta: 0:00:00  loss_g: -2.5370 (-2.5348)  loss_d: -0.0341 (0.0135)  loss: -2.5755 (-2.5213)  time: 0.0395  data: 0.0000  max mem: 0\n",
      "Epoch: [69] Total time: 0:00:01\n",
      "Epoch: [70]  [ 0/49]  eta: 0:00:02  loss_g: -2.5632 (-2.5632)  loss_d: 0.1006 (0.1006)  loss: -2.4626 (-2.4626)  time: 0.0417  data: 0.0000  max mem: 0\n",
      "Epoch: [70]  [49/49]  eta: 0:00:00  loss_g: -2.4173 (-2.4739)  loss_d: -0.0673 (0.0113)  loss: -2.4323 (-2.4626)  time: 0.0405  data: 0.0000  max mem: 0\n",
      "Epoch: [70] Total time: 0:00:02\n",
      "Epoch: [71]  [ 0/49]  eta: 0:00:02  loss_g: -2.2518 (-2.2518)  loss_d: -0.1854 (-0.1854)  loss: -2.4372 (-2.4372)  time: 0.0434  data: 0.0000  max mem: 0\n",
      "Epoch: [71]  [49/49]  eta: 0:00:00  loss_g: -2.3812 (-2.3582)  loss_d: 0.0366 (0.0321)  loss: -2.3126 (-2.3261)  time: 0.0398  data: 0.0000  max mem: 0\n",
      "Epoch: [71] Total time: 0:00:02\n",
      "Epoch: [72]  [ 0/49]  eta: 0:00:02  loss_g: -2.3373 (-2.3373)  loss_d: 0.0354 (0.0354)  loss: -2.3019 (-2.3019)  time: 0.0422  data: 0.0000  max mem: 0\n",
      "Epoch: [72]  [49/49]  eta: 0:00:00  loss_g: -2.3682 (-2.3226)  loss_d: 0.0092 (-0.0023)  loss: -2.4003 (-2.3249)  time: 0.0408  data: 0.0000  max mem: 0\n",
      "Epoch: [72] Total time: 0:00:02\n",
      "Epoch: [73]  [ 0/49]  eta: 0:00:02  loss_g: -2.3281 (-2.3281)  loss_d: 0.1423 (0.1423)  loss: -2.1858 (-2.1858)  time: 0.0413  data: 0.0000  max mem: 0\n",
      "Epoch: [73]  [49/49]  eta: 0:00:00  loss_g: -2.3630 (-2.3459)  loss_d: 0.0071 (-0.0325)  loss: -2.3717 (-2.3785)  time: 0.0398  data: 0.0000  max mem: 0\n",
      "Epoch: [73] Total time: 0:00:02\n",
      "Epoch: [74]  [ 0/49]  eta: 0:00:02  loss_g: -2.2420 (-2.2420)  loss_d: -0.1196 (-0.1196)  loss: -2.3616 (-2.3616)  time: 0.0416  data: 0.0000  max mem: 0\n",
      "Epoch: [74]  [49/49]  eta: 0:00:00  loss_g: -2.2935 (-2.2647)  loss_d: -0.0663 (-0.0402)  loss: -2.3162 (-2.3049)  time: 0.0403  data: 0.0000  max mem: 0\n",
      "Epoch: [74] Total time: 0:00:02\n",
      "Epoch: [75]  [ 0/49]  eta: 0:00:02  loss_g: -2.2889 (-2.2889)  loss_d: -0.1541 (-0.1541)  loss: -2.4430 (-2.4430)  time: 0.0419  data: 0.0000  max mem: 0\n",
      "Epoch: [75]  [49/49]  eta: 0:00:00  loss_g: -2.2962 (-2.3095)  loss_d: -0.0816 (-0.0242)  loss: -2.3579 (-2.3336)  time: 0.0395  data: 0.0000  max mem: 0\n",
      "Epoch: [75] Total time: 0:00:02\n",
      "Epoch: [76]  [ 0/49]  eta: 0:00:01  loss_g: -2.3070 (-2.3070)  loss_d: 0.0152 (0.0152)  loss: -2.2918 (-2.2918)  time: 0.0389  data: 0.0000  max mem: 0\n",
      "Epoch: [76]  [49/49]  eta: 0:00:00  loss_g: -2.3928 (-2.2850)  loss_d: 0.0132 (0.0112)  loss: -2.3651 (-2.2739)  time: 0.0401  data: 0.0000  max mem: 0\n",
      "Epoch: [76] Total time: 0:00:01\n",
      "Epoch: [77]  [ 0/49]  eta: 0:00:02  loss_g: -2.4506 (-2.4506)  loss_d: 0.0807 (0.0807)  loss: -2.3699 (-2.3699)  time: 0.0403  data: 0.0000  max mem: 0\n",
      "Epoch: [77]  [49/49]  eta: 0:00:00  loss_g: -2.4286 (-2.4053)  loss_d: -0.0316 (-0.0346)  loss: -2.4490 (-2.4399)  time: 0.0406  data: 0.0000  max mem: 0\n",
      "Epoch: [77] Total time: 0:00:01\n",
      "Epoch: [78]  [ 0/49]  eta: 0:00:01  loss_g: -2.2892 (-2.2892)  loss_d: -0.1930 (-0.1930)  loss: -2.4822 (-2.4822)  time: 0.0383  data: 0.0000  max mem: 0\n",
      "Epoch: [78]  [49/49]  eta: 0:00:00  loss_g: -2.3046 (-2.3329)  loss_d: 0.0427 (0.0219)  loss: -2.2442 (-2.3110)  time: 0.0402  data: 0.0000  max mem: 0\n",
      "Epoch: [78] Total time: 0:00:02\n",
      "Epoch: [79]  [ 0/49]  eta: 0:00:02  loss_g: -2.5177 (-2.5177)  loss_d: 0.0245 (0.0245)  loss: -2.4932 (-2.4932)  time: 0.0407  data: 0.0000  max mem: 0\n",
      "Epoch: [79]  [49/49]  eta: 0:00:00  loss_g: -2.3754 (-2.3576)  loss_d: -0.0249 (-0.0448)  loss: -2.4006 (-2.4024)  time: 0.0404  data: 0.0000  max mem: 0\n",
      "Epoch: [79] Total time: 0:00:01\n",
      "Epoch: [80]  [ 0/49]  eta: 0:00:02  loss_g: -2.2840 (-2.2840)  loss_d: -0.0191 (-0.0191)  loss: -2.3031 (-2.3031)  time: 0.0414  data: 0.0000  max mem: 0\n",
      "Epoch: [80]  [49/49]  eta: 0:00:00  loss_g: -2.3480 (-2.3389)  loss_d: -0.0679 (-0.0458)  loss: -2.4796 (-2.3846)  time: 0.0388  data: 0.0000  max mem: 0\n",
      "Epoch: [80] Total time: 0:00:01\n",
      "Epoch: [81]  [ 0/49]  eta: 0:00:01  loss_g: -2.3475 (-2.3475)  loss_d: -0.0840 (-0.0840)  loss: -2.4316 (-2.4316)  time: 0.0353  data: 0.0000  max mem: 0\n",
      "Epoch: [81]  [49/49]  eta: 0:00:00  loss_g: -2.3744 (-2.4105)  loss_d: 0.0536 (0.0013)  loss: -2.3145 (-2.4091)  time: 0.0378  data: 0.0000  max mem: 0\n",
      "Epoch: [81] Total time: 0:00:01\n",
      "Epoch: [82]  [ 0/49]  eta: 0:00:01  loss_g: -2.4913 (-2.4913)  loss_d: -0.0892 (-0.0892)  loss: -2.5805 (-2.5805)  time: 0.0358  data: 0.0000  max mem: 0\n",
      "Epoch: [82]  [49/49]  eta: 0:00:00  loss_g: -2.4895 (-2.4294)  loss_d: -0.0702 (-0.0281)  loss: -2.5648 (-2.4576)  time: 0.0351  data: 0.0001  max mem: 0\n",
      "Epoch: [82] Total time: 0:00:01\n",
      "Epoch: [83]  [ 0/49]  eta: 0:00:01  loss_g: -2.6086 (-2.6086)  loss_d: -0.1712 (-0.1712)  loss: -2.7798 (-2.7798)  time: 0.0384  data: 0.0000  max mem: 0\n",
      "Epoch: [83]  [49/49]  eta: 0:00:00  loss_g: -2.3986 (-2.4156)  loss_d: -0.0097 (-0.0108)  loss: -2.3567 (-2.4265)  time: 0.0355  data: 0.0000  max mem: 0\n",
      "Epoch: [83] Total time: 0:00:01\n",
      "Epoch: [84]  [ 0/49]  eta: 0:00:02  loss_g: -2.3898 (-2.3898)  loss_d: 0.2838 (0.2838)  loss: -2.1061 (-2.1061)  time: 0.0407  data: 0.0000  max mem: 0\n",
      "Epoch: [84]  [49/49]  eta: 0:00:00  loss_g: -2.3548 (-2.3943)  loss_d: -0.0924 (-0.0316)  loss: -2.4797 (-2.4259)  time: 0.0350  data: 0.0000  max mem: 0\n",
      "Epoch: [84] Total time: 0:00:01\n",
      "Epoch: [85]  [ 0/49]  eta: 0:00:01  loss_g: -2.3243 (-2.3243)  loss_d: 0.0277 (0.0277)  loss: -2.2966 (-2.2966)  time: 0.0311  data: 0.0000  max mem: 0\n",
      "Epoch: [85]  [49/49]  eta: 0:00:00  loss_g: -2.4397 (-2.4057)  loss_d: -0.0197 (-0.0078)  loss: -2.4461 (-2.4135)  time: 0.0349  data: 0.0000  max mem: 0\n",
      "Epoch: [85] Total time: 0:00:01\n",
      "Epoch: [86]  [ 0/49]  eta: 0:00:01  loss_g: -2.3926 (-2.3926)  loss_d: -0.1043 (-0.1043)  loss: -2.4969 (-2.4969)  time: 0.0313  data: 0.0000  max mem: 0\n",
      "Epoch: [86]  [49/49]  eta: 0:00:00  loss_g: -2.4470 (-2.4707)  loss_d: 0.0125 (-0.0189)  loss: -2.4427 (-2.4896)  time: 0.0360  data: 0.0000  max mem: 0\n",
      "Epoch: [86] Total time: 0:00:01\n",
      "Epoch: [87]  [ 0/49]  eta: 0:00:01  loss_g: -2.6083 (-2.6083)  loss_d: 0.0277 (0.0277)  loss: -2.5806 (-2.5806)  time: 0.0394  data: 0.0000  max mem: 0\n",
      "Epoch: [87]  [49/49]  eta: 0:00:00  loss_g: -2.4622 (-2.4316)  loss_d: -0.0188 (-0.0334)  loss: -2.5067 (-2.4649)  time: 0.0349  data: 0.0000  max mem: 0\n",
      "Epoch: [87] Total time: 0:00:01\n",
      "Epoch: [88]  [ 0/49]  eta: 0:00:01  loss_g: -2.4366 (-2.4366)  loss_d: 0.0142 (0.0142)  loss: -2.4224 (-2.4224)  time: 0.0335  data: 0.0000  max mem: 0\n",
      "Epoch: [88]  [49/49]  eta: 0:00:00  loss_g: -2.4651 (-2.3873)  loss_d: -0.0434 (-0.0195)  loss: -2.5236 (-2.4067)  time: 0.0356  data: 0.0000  max mem: 0\n",
      "Epoch: [88] Total time: 0:00:01\n",
      "Epoch: [89]  [ 0/49]  eta: 0:00:01  loss_g: -2.5237 (-2.5237)  loss_d: 0.0646 (0.0646)  loss: -2.4591 (-2.4591)  time: 0.0353  data: 0.0000  max mem: 0\n",
      "Epoch: [89]  [49/49]  eta: 0:00:00  loss_g: -2.7069 (-2.6587)  loss_d: -0.0031 (0.0017)  loss: -2.7171 (-2.6570)  time: 0.0363  data: 0.0000  max mem: 0\n",
      "Epoch: [89] Total time: 0:00:01\n",
      "Epoch: [90]  [ 0/49]  eta: 0:00:01  loss_g: -2.6758 (-2.6758)  loss_d: -0.0338 (-0.0338)  loss: -2.7097 (-2.7097)  time: 0.0322  data: 0.0000  max mem: 0\n",
      "Epoch: [90]  [49/49]  eta: 0:00:00  loss_g: -2.3598 (-2.4374)  loss_d: -0.0484 (0.0144)  loss: -2.3419 (-2.4230)  time: 0.0351  data: 0.0000  max mem: 0\n",
      "Epoch: [90] Total time: 0:00:01\n",
      "Epoch: [91]  [ 0/49]  eta: 0:00:01  loss_g: -2.4768 (-2.4768)  loss_d: 0.1505 (0.1505)  loss: -2.3263 (-2.3263)  time: 0.0370  data: 0.0000  max mem: 0\n",
      "Epoch: [91]  [49/49]  eta: 0:00:00  loss_g: -2.4298 (-2.4219)  loss_d: 0.0135 (0.0322)  loss: -2.4240 (-2.3897)  time: 0.0363  data: 0.0000  max mem: 0\n",
      "Epoch: [91] Total time: 0:00:01\n",
      "Epoch: [92]  [ 0/49]  eta: 0:00:01  loss_g: -2.3746 (-2.3746)  loss_d: -0.0128 (-0.0128)  loss: -2.3874 (-2.3874)  time: 0.0370  data: 0.0000  max mem: 0\n",
      "Epoch: [92]  [49/49]  eta: 0:00:00  loss_g: -2.4223 (-2.4709)  loss_d: -0.0564 (-0.0122)  loss: -2.4315 (-2.4831)  time: 0.0378  data: 0.0000  max mem: 0\n",
      "Epoch: [92] Total time: 0:00:01\n",
      "Epoch: [93]  [ 0/49]  eta: 0:00:02  loss_g: -2.4339 (-2.4339)  loss_d: -0.0534 (-0.0534)  loss: -2.4874 (-2.4874)  time: 0.0411  data: 0.0000  max mem: 0\n",
      "Epoch: [93]  [49/49]  eta: 0:00:00  loss_g: -2.4052 (-2.4455)  loss_d: -0.0559 (-0.0139)  loss: -2.4692 (-2.4594)  time: 0.0354  data: 0.0000  max mem: 0\n",
      "Epoch: [93] Total time: 0:00:01\n",
      "Epoch: [94]  [ 0/49]  eta: 0:00:01  loss_g: -2.6474 (-2.6474)  loss_d: -0.1629 (-0.1629)  loss: -2.8102 (-2.8102)  time: 0.0334  data: 0.0000  max mem: 0\n",
      "Epoch: [94]  [49/49]  eta: 0:00:00  loss_g: -2.4832 (-2.5040)  loss_d: -0.0334 (-0.0345)  loss: -2.5639 (-2.5385)  time: 0.0360  data: 0.0000  max mem: 0\n",
      "Epoch: [94] Total time: 0:00:01\n",
      "Epoch: [95]  [ 0/49]  eta: 0:00:01  loss_g: -2.3714 (-2.3714)  loss_d: 0.1708 (0.1708)  loss: -2.2006 (-2.2006)  time: 0.0298  data: 0.0000  max mem: 0\n",
      "Epoch: [95]  [49/49]  eta: 0:00:00  loss_g: -2.5462 (-2.6227)  loss_d: -0.1193 (-0.0184)  loss: -2.6459 (-2.6411)  time: 0.0355  data: 0.0000  max mem: 0\n",
      "Epoch: [95] Total time: 0:00:01\n",
      "Epoch: [96]  [ 0/49]  eta: 0:00:01  loss_g: -2.4863 (-2.4863)  loss_d: 0.1092 (0.1092)  loss: -2.3771 (-2.3771)  time: 0.0380  data: 0.0000  max mem: 0\n",
      "Epoch: [96]  [49/49]  eta: 0:00:00  loss_g: -2.5651 (-2.5144)  loss_d: -0.0056 (-0.0338)  loss: -2.5363 (-2.5482)  time: 0.0360  data: 0.0000  max mem: 0\n",
      "Epoch: [96] Total time: 0:00:01\n",
      "Epoch: [97]  [ 0/49]  eta: 0:00:01  loss_g: -2.5667 (-2.5667)  loss_d: -0.0857 (-0.0857)  loss: -2.6523 (-2.6523)  time: 0.0368  data: 0.0000  max mem: 0\n",
      "Epoch: [97]  [49/49]  eta: 0:00:00  loss_g: -2.6547 (-2.6322)  loss_d: 0.0071 (0.0050)  loss: -2.6224 (-2.6272)  time: 0.0353  data: 0.0000  max mem: 0\n",
      "Epoch: [97] Total time: 0:00:01\n",
      "Epoch: [98]  [ 0/49]  eta: 0:00:01  loss_g: -2.5697 (-2.5697)  loss_d: -0.0619 (-0.0619)  loss: -2.6316 (-2.6316)  time: 0.0362  data: 0.0000  max mem: 0\n",
      "Epoch: [98]  [49/49]  eta: 0:00:00  loss_g: -2.6871 (-2.6943)  loss_d: -0.1077 (-0.0199)  loss: -2.7319 (-2.7142)  time: 0.0356  data: 0.0000  max mem: 0\n",
      "Epoch: [98] Total time: 0:00:01\n",
      "Epoch: [99]  [ 0/49]  eta: 0:00:01  loss_g: -2.7513 (-2.7513)  loss_d: -0.2463 (-0.2463)  loss: -2.9976 (-2.9976)  time: 0.0364  data: 0.0000  max mem: 0\n",
      "Epoch: [99]  [49/49]  eta: 0:00:00  loss_g: -2.5366 (-2.6331)  loss_d: -0.0081 (0.0020)  loss: -2.5007 (-2.6310)  time: 0.0353  data: 0.0000  max mem: 0\n",
      "Epoch: [99] Total time: 0:00:01\n"
     ]
    }
   ],
   "source": [
    "synth.fit(data=churn,epochs=100,discrete_columns=discrete_columns)"
   ]
  },
  {
   "cell_type": "markdown",
   "metadata": {},
   "source": [
    "### Sample 5000 new synthetic rows "
   ]
  },
  {
   "cell_type": "code",
   "execution_count": 70,
   "metadata": {
    "scrolled": true
   },
   "outputs": [],
   "source": [
    "sample = synth.sample(5000)"
   ]
  },
  {
   "cell_type": "markdown",
   "metadata": {},
   "source": [
    "### Check metrics for newly created synthetic data"
   ]
  },
  {
   "cell_type": "code",
   "execution_count": 71,
   "metadata": {},
   "outputs": [
    {
     "data": {
      "text/html": [
       "<div>\n",
       "<style scoped>\n",
       "    .dataframe tbody tr th:only-of-type {\n",
       "        vertical-align: middle;\n",
       "    }\n",
       "\n",
       "    .dataframe tbody tr th {\n",
       "        vertical-align: top;\n",
       "    }\n",
       "\n",
       "    .dataframe thead th {\n",
       "        text-align: right;\n",
       "    }\n",
       "</style>\n",
       "<table border=\"1\" class=\"dataframe\">\n",
       "  <thead>\n",
       "    <tr style=\"text-align: right;\">\n",
       "      <th></th>\n",
       "      <th>metric</th>\n",
       "      <th>name</th>\n",
       "      <th>raw_score</th>\n",
       "      <th>normalized_score</th>\n",
       "      <th>min_value</th>\n",
       "      <th>max_value</th>\n",
       "      <th>goal</th>\n",
       "      <th>MetricType</th>\n",
       "      <th>error</th>\n",
       "    </tr>\n",
       "  </thead>\n",
       "  <tbody>\n",
       "    <tr>\n",
       "      <th>0</th>\n",
       "      <td>BNLogLikelihood</td>\n",
       "      <td>BayesianNetwork Log Likelihood</td>\n",
       "      <td>NaN</td>\n",
       "      <td>NaN</td>\n",
       "      <td>-inf</td>\n",
       "      <td>0.0</td>\n",
       "      <td>MAXIMIZE</td>\n",
       "      <td>Likelihood Metric</td>\n",
       "      <td>Please install pomegranate with `pip install p...</td>\n",
       "    </tr>\n",
       "    <tr>\n",
       "      <th>1</th>\n",
       "      <td>LogisticDetection</td>\n",
       "      <td>LogisticRegression Detection</td>\n",
       "      <td>0.501516</td>\n",
       "      <td>0.501516</td>\n",
       "      <td>0.0</td>\n",
       "      <td>1.0</td>\n",
       "      <td>MAXIMIZE</td>\n",
       "      <td>Real vs Synthetic Dectection Metric</td>\n",
       "      <td>None</td>\n",
       "    </tr>\n",
       "    <tr>\n",
       "      <th>2</th>\n",
       "      <td>SVCDetection</td>\n",
       "      <td>SVC Detection</td>\n",
       "      <td>0.435596</td>\n",
       "      <td>0.435596</td>\n",
       "      <td>0.0</td>\n",
       "      <td>1.0</td>\n",
       "      <td>MAXIMIZE</td>\n",
       "      <td>Real vs Synthetic Dectection Metric</td>\n",
       "      <td>None</td>\n",
       "    </tr>\n",
       "    <tr>\n",
       "      <th>3</th>\n",
       "      <td>BinaryDecisionTreeClassifier</td>\n",
       "      <td>None</td>\n",
       "      <td>NaN</td>\n",
       "      <td>NaN</td>\n",
       "      <td>0.0</td>\n",
       "      <td>1.0</td>\n",
       "      <td>MAXIMIZE</td>\n",
       "      <td>ML Efficacy Metric: R-Sq or F1</td>\n",
       "      <td>`target` must be passed either directly or ins...</td>\n",
       "    </tr>\n",
       "    <tr>\n",
       "      <th>4</th>\n",
       "      <td>BinaryAdaBoostClassifier</td>\n",
       "      <td>None</td>\n",
       "      <td>NaN</td>\n",
       "      <td>NaN</td>\n",
       "      <td>0.0</td>\n",
       "      <td>1.0</td>\n",
       "      <td>MAXIMIZE</td>\n",
       "      <td>ML Efficacy Metric: R-Sq or F1</td>\n",
       "      <td>`target` must be passed either directly or ins...</td>\n",
       "    </tr>\n",
       "    <tr>\n",
       "      <th>5</th>\n",
       "      <td>BinaryLogisticRegression</td>\n",
       "      <td>None</td>\n",
       "      <td>NaN</td>\n",
       "      <td>NaN</td>\n",
       "      <td>0.0</td>\n",
       "      <td>1.0</td>\n",
       "      <td>MAXIMIZE</td>\n",
       "      <td>ML Efficacy Metric: R-Sq or F1</td>\n",
       "      <td>`target` must be passed either directly or ins...</td>\n",
       "    </tr>\n",
       "    <tr>\n",
       "      <th>6</th>\n",
       "      <td>BinaryMLPClassifier</td>\n",
       "      <td>None</td>\n",
       "      <td>NaN</td>\n",
       "      <td>NaN</td>\n",
       "      <td>0.0</td>\n",
       "      <td>1.0</td>\n",
       "      <td>MAXIMIZE</td>\n",
       "      <td>ML Efficacy Metric: R-Sq or F1</td>\n",
       "      <td>`target` must be passed either directly or ins...</td>\n",
       "    </tr>\n",
       "    <tr>\n",
       "      <th>7</th>\n",
       "      <td>MulticlassDecisionTreeClassifier</td>\n",
       "      <td>None</td>\n",
       "      <td>NaN</td>\n",
       "      <td>NaN</td>\n",
       "      <td>0.0</td>\n",
       "      <td>1.0</td>\n",
       "      <td>MAXIMIZE</td>\n",
       "      <td>ML Efficacy Metric: R-Sq or F1</td>\n",
       "      <td>`target` must be passed either directly or ins...</td>\n",
       "    </tr>\n",
       "    <tr>\n",
       "      <th>8</th>\n",
       "      <td>MulticlassMLPClassifier</td>\n",
       "      <td>None</td>\n",
       "      <td>NaN</td>\n",
       "      <td>NaN</td>\n",
       "      <td>0.0</td>\n",
       "      <td>1.0</td>\n",
       "      <td>MAXIMIZE</td>\n",
       "      <td>ML Efficacy Metric: R-Sq or F1</td>\n",
       "      <td>`target` must be passed either directly or ins...</td>\n",
       "    </tr>\n",
       "    <tr>\n",
       "      <th>9</th>\n",
       "      <td>LinearRegression</td>\n",
       "      <td>None</td>\n",
       "      <td>NaN</td>\n",
       "      <td>NaN</td>\n",
       "      <td>-inf</td>\n",
       "      <td>1.0</td>\n",
       "      <td>MAXIMIZE</td>\n",
       "      <td>ML Efficacy Metric: R-Sq or F1</td>\n",
       "      <td>`target` must be passed either directly or ins...</td>\n",
       "    </tr>\n",
       "    <tr>\n",
       "      <th>10</th>\n",
       "      <td>MLPRegressor</td>\n",
       "      <td>None</td>\n",
       "      <td>NaN</td>\n",
       "      <td>NaN</td>\n",
       "      <td>-inf</td>\n",
       "      <td>1.0</td>\n",
       "      <td>MAXIMIZE</td>\n",
       "      <td>ML Efficacy Metric: R-Sq or F1</td>\n",
       "      <td>`target` must be passed either directly or ins...</td>\n",
       "    </tr>\n",
       "    <tr>\n",
       "      <th>11</th>\n",
       "      <td>GMLogLikelihood</td>\n",
       "      <td>GaussianMixture Log Likelihood</td>\n",
       "      <td>-22723.487286</td>\n",
       "      <td>0.000000</td>\n",
       "      <td>-inf</td>\n",
       "      <td>inf</td>\n",
       "      <td>MAXIMIZE</td>\n",
       "      <td>Likelihood Metric</td>\n",
       "      <td>None</td>\n",
       "    </tr>\n",
       "    <tr>\n",
       "      <th>12</th>\n",
       "      <td>CSTest</td>\n",
       "      <td>Chi-Squared</td>\n",
       "      <td>0.962925</td>\n",
       "      <td>0.962925</td>\n",
       "      <td>0.0</td>\n",
       "      <td>1.0</td>\n",
       "      <td>MAXIMIZE</td>\n",
       "      <td>Statistical Test Metric</td>\n",
       "      <td>None</td>\n",
       "    </tr>\n",
       "    <tr>\n",
       "      <th>13</th>\n",
       "      <td>KSTest</td>\n",
       "      <td>Inverted Kolmogorov-Smirnov D statistic</td>\n",
       "      <td>0.880789</td>\n",
       "      <td>0.880789</td>\n",
       "      <td>0.0</td>\n",
       "      <td>1.0</td>\n",
       "      <td>MAXIMIZE</td>\n",
       "      <td>Statistical Test Metric</td>\n",
       "      <td>None</td>\n",
       "    </tr>\n",
       "    <tr>\n",
       "      <th>14</th>\n",
       "      <td>KSTestExtended</td>\n",
       "      <td>Inverted Kolmogorov-Smirnov D statistic</td>\n",
       "      <td>0.895218</td>\n",
       "      <td>0.895218</td>\n",
       "      <td>0.0</td>\n",
       "      <td>1.0</td>\n",
       "      <td>MAXIMIZE</td>\n",
       "      <td>Statistical Test Metric</td>\n",
       "      <td>None</td>\n",
       "    </tr>\n",
       "    <tr>\n",
       "      <th>15</th>\n",
       "      <td>CategoricalCAP</td>\n",
       "      <td>CategoricalCAP</td>\n",
       "      <td>NaN</td>\n",
       "      <td>NaN</td>\n",
       "      <td>0.0</td>\n",
       "      <td>1.0</td>\n",
       "      <td>MAXIMIZE</td>\n",
       "      <td>Privacy Metric</td>\n",
       "      <td>`key_fields` must be passed either directly or...</td>\n",
       "    </tr>\n",
       "    <tr>\n",
       "      <th>16</th>\n",
       "      <td>CategoricalZeroCAP</td>\n",
       "      <td>0CAP</td>\n",
       "      <td>NaN</td>\n",
       "      <td>NaN</td>\n",
       "      <td>0.0</td>\n",
       "      <td>1.0</td>\n",
       "      <td>MAXIMIZE</td>\n",
       "      <td>Privacy Metric</td>\n",
       "      <td>`key_fields` must be passed either directly or...</td>\n",
       "    </tr>\n",
       "    <tr>\n",
       "      <th>17</th>\n",
       "      <td>CategoricalGeneralizedCAP</td>\n",
       "      <td>Categorical GeneralizedCAP</td>\n",
       "      <td>NaN</td>\n",
       "      <td>NaN</td>\n",
       "      <td>0.0</td>\n",
       "      <td>1.0</td>\n",
       "      <td>MAXIMIZE</td>\n",
       "      <td>Privacy Metric</td>\n",
       "      <td>`key_fields` must be passed either directly or...</td>\n",
       "    </tr>\n",
       "    <tr>\n",
       "      <th>18</th>\n",
       "      <td>CategoricalNB</td>\n",
       "      <td>Categorical NaiveBayesian</td>\n",
       "      <td>NaN</td>\n",
       "      <td>NaN</td>\n",
       "      <td>0.0</td>\n",
       "      <td>1.0</td>\n",
       "      <td>MAXIMIZE</td>\n",
       "      <td>Privacy Metric</td>\n",
       "      <td>`key_fields` must be passed either directly or...</td>\n",
       "    </tr>\n",
       "    <tr>\n",
       "      <th>19</th>\n",
       "      <td>CategoricalKNN</td>\n",
       "      <td>K-Nearest Neighbors</td>\n",
       "      <td>NaN</td>\n",
       "      <td>NaN</td>\n",
       "      <td>0.0</td>\n",
       "      <td>1.0</td>\n",
       "      <td>MAXIMIZE</td>\n",
       "      <td>Privacy Metric</td>\n",
       "      <td>`key_fields` must be passed either directly or...</td>\n",
       "    </tr>\n",
       "    <tr>\n",
       "      <th>20</th>\n",
       "      <td>CategoricalRF</td>\n",
       "      <td>Categorical Random Forest</td>\n",
       "      <td>NaN</td>\n",
       "      <td>NaN</td>\n",
       "      <td>0.0</td>\n",
       "      <td>1.0</td>\n",
       "      <td>MAXIMIZE</td>\n",
       "      <td>Privacy Metric</td>\n",
       "      <td>`key_fields` must be passed either directly or...</td>\n",
       "    </tr>\n",
       "    <tr>\n",
       "      <th>21</th>\n",
       "      <td>CategoricalSVM</td>\n",
       "      <td>Support Vector Classifier</td>\n",
       "      <td>NaN</td>\n",
       "      <td>NaN</td>\n",
       "      <td>0.0</td>\n",
       "      <td>1.0</td>\n",
       "      <td>MAXIMIZE</td>\n",
       "      <td>Privacy Metric</td>\n",
       "      <td>`key_fields` must be passed either directly or...</td>\n",
       "    </tr>\n",
       "    <tr>\n",
       "      <th>22</th>\n",
       "      <td>CategoricalEnsemble</td>\n",
       "      <td>Ensemble</td>\n",
       "      <td>NaN</td>\n",
       "      <td>NaN</td>\n",
       "      <td>0.0</td>\n",
       "      <td>1.0</td>\n",
       "      <td>MAXIMIZE</td>\n",
       "      <td>Privacy Metric</td>\n",
       "      <td>'&lt;' not supported between instances of 'float'...</td>\n",
       "    </tr>\n",
       "    <tr>\n",
       "      <th>23</th>\n",
       "      <td>NumericalLR</td>\n",
       "      <td>Numerical Linear Regression</td>\n",
       "      <td>NaN</td>\n",
       "      <td>NaN</td>\n",
       "      <td>0.0</td>\n",
       "      <td>inf</td>\n",
       "      <td>MAXIMIZE</td>\n",
       "      <td>Privacy Metric</td>\n",
       "      <td>`key_fields` must be passed either directly or...</td>\n",
       "    </tr>\n",
       "    <tr>\n",
       "      <th>24</th>\n",
       "      <td>NumericalMLP</td>\n",
       "      <td>Multi-layer Perceptron Regression</td>\n",
       "      <td>NaN</td>\n",
       "      <td>NaN</td>\n",
       "      <td>0.0</td>\n",
       "      <td>inf</td>\n",
       "      <td>MAXIMIZE</td>\n",
       "      <td>Privacy Metric</td>\n",
       "      <td>`key_fields` must be passed either directly or...</td>\n",
       "    </tr>\n",
       "    <tr>\n",
       "      <th>25</th>\n",
       "      <td>NumericalSVR</td>\n",
       "      <td>Numerical Support-vector Regression</td>\n",
       "      <td>NaN</td>\n",
       "      <td>NaN</td>\n",
       "      <td>0.0</td>\n",
       "      <td>inf</td>\n",
       "      <td>MAXIMIZE</td>\n",
       "      <td>Privacy Metric</td>\n",
       "      <td>`key_fields` must be passed either directly or...</td>\n",
       "    </tr>\n",
       "    <tr>\n",
       "      <th>26</th>\n",
       "      <td>NumericalRadiusNearestNeighbor</td>\n",
       "      <td>Numerical Radius Nearest Neighbor</td>\n",
       "      <td>NaN</td>\n",
       "      <td>NaN</td>\n",
       "      <td>0.0</td>\n",
       "      <td>inf</td>\n",
       "      <td>MAXIMIZE</td>\n",
       "      <td>Privacy Metric</td>\n",
       "      <td>`key_fields` must be passed either directly or...</td>\n",
       "    </tr>\n",
       "    <tr>\n",
       "      <th>27</th>\n",
       "      <td>ContinuousKLDivergence</td>\n",
       "      <td>Continuous Kullback–Leibler Divergence</td>\n",
       "      <td>0.908787</td>\n",
       "      <td>0.908787</td>\n",
       "      <td>0.0</td>\n",
       "      <td>1.0</td>\n",
       "      <td>MAXIMIZE</td>\n",
       "      <td>Distribution Similarity Metric</td>\n",
       "      <td>None</td>\n",
       "    </tr>\n",
       "    <tr>\n",
       "      <th>28</th>\n",
       "      <td>DiscreteKLDivergence</td>\n",
       "      <td>Discrete Kullback–Leibler Divergence</td>\n",
       "      <td>0.990913</td>\n",
       "      <td>0.990913</td>\n",
       "      <td>0.0</td>\n",
       "      <td>1.0</td>\n",
       "      <td>MAXIMIZE</td>\n",
       "      <td>Distribution Similarity Metric</td>\n",
       "      <td>None</td>\n",
       "    </tr>\n",
       "  </tbody>\n",
       "</table>\n",
       "</div>"
      ],
      "text/plain": [
       "                              metric                                     name  \\\n",
       "0                    BNLogLikelihood           BayesianNetwork Log Likelihood   \n",
       "1                  LogisticDetection             LogisticRegression Detection   \n",
       "2                       SVCDetection                            SVC Detection   \n",
       "3       BinaryDecisionTreeClassifier                                     None   \n",
       "4           BinaryAdaBoostClassifier                                     None   \n",
       "5           BinaryLogisticRegression                                     None   \n",
       "6                BinaryMLPClassifier                                     None   \n",
       "7   MulticlassDecisionTreeClassifier                                     None   \n",
       "8            MulticlassMLPClassifier                                     None   \n",
       "9                   LinearRegression                                     None   \n",
       "10                      MLPRegressor                                     None   \n",
       "11                   GMLogLikelihood           GaussianMixture Log Likelihood   \n",
       "12                            CSTest                              Chi-Squared   \n",
       "13                            KSTest  Inverted Kolmogorov-Smirnov D statistic   \n",
       "14                    KSTestExtended  Inverted Kolmogorov-Smirnov D statistic   \n",
       "15                    CategoricalCAP                           CategoricalCAP   \n",
       "16                CategoricalZeroCAP                                     0CAP   \n",
       "17         CategoricalGeneralizedCAP               Categorical GeneralizedCAP   \n",
       "18                     CategoricalNB                Categorical NaiveBayesian   \n",
       "19                    CategoricalKNN                      K-Nearest Neighbors   \n",
       "20                     CategoricalRF                Categorical Random Forest   \n",
       "21                    CategoricalSVM                Support Vector Classifier   \n",
       "22               CategoricalEnsemble                                 Ensemble   \n",
       "23                       NumericalLR              Numerical Linear Regression   \n",
       "24                      NumericalMLP        Multi-layer Perceptron Regression   \n",
       "25                      NumericalSVR      Numerical Support-vector Regression   \n",
       "26    NumericalRadiusNearestNeighbor        Numerical Radius Nearest Neighbor   \n",
       "27            ContinuousKLDivergence   Continuous Kullback–Leibler Divergence   \n",
       "28              DiscreteKLDivergence     Discrete Kullback–Leibler Divergence   \n",
       "\n",
       "       raw_score  normalized_score  min_value  max_value      goal  \\\n",
       "0            NaN               NaN       -inf        0.0  MAXIMIZE   \n",
       "1       0.501516          0.501516        0.0        1.0  MAXIMIZE   \n",
       "2       0.435596          0.435596        0.0        1.0  MAXIMIZE   \n",
       "3            NaN               NaN        0.0        1.0  MAXIMIZE   \n",
       "4            NaN               NaN        0.0        1.0  MAXIMIZE   \n",
       "5            NaN               NaN        0.0        1.0  MAXIMIZE   \n",
       "6            NaN               NaN        0.0        1.0  MAXIMIZE   \n",
       "7            NaN               NaN        0.0        1.0  MAXIMIZE   \n",
       "8            NaN               NaN        0.0        1.0  MAXIMIZE   \n",
       "9            NaN               NaN       -inf        1.0  MAXIMIZE   \n",
       "10           NaN               NaN       -inf        1.0  MAXIMIZE   \n",
       "11 -22723.487286          0.000000       -inf        inf  MAXIMIZE   \n",
       "12      0.962925          0.962925        0.0        1.0  MAXIMIZE   \n",
       "13      0.880789          0.880789        0.0        1.0  MAXIMIZE   \n",
       "14      0.895218          0.895218        0.0        1.0  MAXIMIZE   \n",
       "15           NaN               NaN        0.0        1.0  MAXIMIZE   \n",
       "16           NaN               NaN        0.0        1.0  MAXIMIZE   \n",
       "17           NaN               NaN        0.0        1.0  MAXIMIZE   \n",
       "18           NaN               NaN        0.0        1.0  MAXIMIZE   \n",
       "19           NaN               NaN        0.0        1.0  MAXIMIZE   \n",
       "20           NaN               NaN        0.0        1.0  MAXIMIZE   \n",
       "21           NaN               NaN        0.0        1.0  MAXIMIZE   \n",
       "22           NaN               NaN        0.0        1.0  MAXIMIZE   \n",
       "23           NaN               NaN        0.0        inf  MAXIMIZE   \n",
       "24           NaN               NaN        0.0        inf  MAXIMIZE   \n",
       "25           NaN               NaN        0.0        inf  MAXIMIZE   \n",
       "26           NaN               NaN        0.0        inf  MAXIMIZE   \n",
       "27      0.908787          0.908787        0.0        1.0  MAXIMIZE   \n",
       "28      0.990913          0.990913        0.0        1.0  MAXIMIZE   \n",
       "\n",
       "                             MetricType  \\\n",
       "0                     Likelihood Metric   \n",
       "1   Real vs Synthetic Dectection Metric   \n",
       "2   Real vs Synthetic Dectection Metric   \n",
       "3        ML Efficacy Metric: R-Sq or F1   \n",
       "4        ML Efficacy Metric: R-Sq or F1   \n",
       "5        ML Efficacy Metric: R-Sq or F1   \n",
       "6        ML Efficacy Metric: R-Sq or F1   \n",
       "7        ML Efficacy Metric: R-Sq or F1   \n",
       "8        ML Efficacy Metric: R-Sq or F1   \n",
       "9        ML Efficacy Metric: R-Sq or F1   \n",
       "10       ML Efficacy Metric: R-Sq or F1   \n",
       "11                    Likelihood Metric   \n",
       "12              Statistical Test Metric   \n",
       "13              Statistical Test Metric   \n",
       "14              Statistical Test Metric   \n",
       "15                       Privacy Metric   \n",
       "16                       Privacy Metric   \n",
       "17                       Privacy Metric   \n",
       "18                       Privacy Metric   \n",
       "19                       Privacy Metric   \n",
       "20                       Privacy Metric   \n",
       "21                       Privacy Metric   \n",
       "22                       Privacy Metric   \n",
       "23                       Privacy Metric   \n",
       "24                       Privacy Metric   \n",
       "25                       Privacy Metric   \n",
       "26                       Privacy Metric   \n",
       "27       Distribution Similarity Metric   \n",
       "28       Distribution Similarity Metric   \n",
       "\n",
       "                                                error  \n",
       "0   Please install pomegranate with `pip install p...  \n",
       "1                                                None  \n",
       "2                                                None  \n",
       "3   `target` must be passed either directly or ins...  \n",
       "4   `target` must be passed either directly or ins...  \n",
       "5   `target` must be passed either directly or ins...  \n",
       "6   `target` must be passed either directly or ins...  \n",
       "7   `target` must be passed either directly or ins...  \n",
       "8   `target` must be passed either directly or ins...  \n",
       "9   `target` must be passed either directly or ins...  \n",
       "10  `target` must be passed either directly or ins...  \n",
       "11                                               None  \n",
       "12                                               None  \n",
       "13                                               None  \n",
       "14                                               None  \n",
       "15  `key_fields` must be passed either directly or...  \n",
       "16  `key_fields` must be passed either directly or...  \n",
       "17  `key_fields` must be passed either directly or...  \n",
       "18  `key_fields` must be passed either directly or...  \n",
       "19  `key_fields` must be passed either directly or...  \n",
       "20  `key_fields` must be passed either directly or...  \n",
       "21  `key_fields` must be passed either directly or...  \n",
       "22  '<' not supported between instances of 'float'...  \n",
       "23  `key_fields` must be passed either directly or...  \n",
       "24  `key_fields` must be passed either directly or...  \n",
       "25  `key_fields` must be passed either directly or...  \n",
       "26  `key_fields` must be passed either directly or...  \n",
       "27                                               None  \n",
       "28                                               None  "
      ]
     },
     "execution_count": 71,
     "metadata": {},
     "output_type": "execute_result"
    }
   ],
   "source": [
    "metrics = SingleTableMetric.get_subclasses()\n",
    "compute_metrics(metrics,churn, sample)"
   ]
  },
  {
   "cell_type": "markdown",
   "metadata": {},
   "source": [
    "#### Report with ML efficacy metrics, as that is the key consideration in this case"
   ]
  },
  {
   "cell_type": "code",
   "execution_count": 72,
   "metadata": {},
   "outputs": [
    {
     "data": {
      "application/vnd.plotly.v1+json": {
       "config": {
        "plotlyServerURL": "https://plot.ly"
       },
       "data": [
        {
         "delta": {
          "font": {
           "size": 60
          },
          "increasing": {
           "color": "white"
          },
          "reference": 0
         },
         "domain": {
          "x": [
           0,
           1
          ],
          "y": [
           0,
           1
          ]
         },
         "gauge": {
          "axis": {
           "range": [
            null,
            100
           ],
           "tickcolor": "white",
           "tickwidth": 0
          },
          "bar": {
           "color": "grey",
           "thickness": 0.3
          },
          "bgcolor": "white",
          "bordercolor": "white",
          "borderwidth": 5,
          "steps": [
           {
            "color": "#FF8C19",
            "range": [
             0,
             20
            ]
           },
           {
            "color": "#FFFF80",
            "range": [
             20,
             40
            ]
           },
           {
            "color": "#BFFFB3",
            "range": [
             40,
             60
            ]
           },
           {
            "color": "#BBFF33",
            "range": [
             60,
             80
            ]
           },
           {
            "color": "#1EB300",
            "range": [
             80,
             101
            ]
           }
          ],
          "threshold": {
           "line": {
            "color": "grey",
            "width": 4
           },
           "thickness": 0,
           "value": 100
          }
         },
         "mode": "gauge+number+delta",
         "number": {
          "font": {
           "color": "grey",
           "family": "'Oswald', sans-serif",
           "size": 24
          },
          "prefix": "<b>Overall Score<b>: "
         },
         "type": "indicator",
         "value": 95
        }
       ],
       "layout": {
        "font": {
         "color": "black",
         "family": "'Oswald', sans-serif"
        },
        "plot_bgcolor": "rgba(0,0,0,0)",
        "template": {
         "data": {
          "bar": [
           {
            "error_x": {
             "color": "#2a3f5f"
            },
            "error_y": {
             "color": "#2a3f5f"
            },
            "marker": {
             "line": {
              "color": "#E5ECF6",
              "width": 0.5
             },
             "pattern": {
              "fillmode": "overlay",
              "size": 10,
              "solidity": 0.2
             }
            },
            "type": "bar"
           }
          ],
          "barpolar": [
           {
            "marker": {
             "line": {
              "color": "#E5ECF6",
              "width": 0.5
             },
             "pattern": {
              "fillmode": "overlay",
              "size": 10,
              "solidity": 0.2
             }
            },
            "type": "barpolar"
           }
          ],
          "carpet": [
           {
            "aaxis": {
             "endlinecolor": "#2a3f5f",
             "gridcolor": "white",
             "linecolor": "white",
             "minorgridcolor": "white",
             "startlinecolor": "#2a3f5f"
            },
            "baxis": {
             "endlinecolor": "#2a3f5f",
             "gridcolor": "white",
             "linecolor": "white",
             "minorgridcolor": "white",
             "startlinecolor": "#2a3f5f"
            },
            "type": "carpet"
           }
          ],
          "choropleth": [
           {
            "colorbar": {
             "outlinewidth": 0,
             "ticks": ""
            },
            "type": "choropleth"
           }
          ],
          "contour": [
           {
            "colorbar": {
             "outlinewidth": 0,
             "ticks": ""
            },
            "colorscale": [
             [
              0,
              "#0d0887"
             ],
             [
              0.1111111111111111,
              "#46039f"
             ],
             [
              0.2222222222222222,
              "#7201a8"
             ],
             [
              0.3333333333333333,
              "#9c179e"
             ],
             [
              0.4444444444444444,
              "#bd3786"
             ],
             [
              0.5555555555555556,
              "#d8576b"
             ],
             [
              0.6666666666666666,
              "#ed7953"
             ],
             [
              0.7777777777777778,
              "#fb9f3a"
             ],
             [
              0.8888888888888888,
              "#fdca26"
             ],
             [
              1,
              "#f0f921"
             ]
            ],
            "type": "contour"
           }
          ],
          "contourcarpet": [
           {
            "colorbar": {
             "outlinewidth": 0,
             "ticks": ""
            },
            "type": "contourcarpet"
           }
          ],
          "heatmap": [
           {
            "colorbar": {
             "outlinewidth": 0,
             "ticks": ""
            },
            "colorscale": [
             [
              0,
              "#0d0887"
             ],
             [
              0.1111111111111111,
              "#46039f"
             ],
             [
              0.2222222222222222,
              "#7201a8"
             ],
             [
              0.3333333333333333,
              "#9c179e"
             ],
             [
              0.4444444444444444,
              "#bd3786"
             ],
             [
              0.5555555555555556,
              "#d8576b"
             ],
             [
              0.6666666666666666,
              "#ed7953"
             ],
             [
              0.7777777777777778,
              "#fb9f3a"
             ],
             [
              0.8888888888888888,
              "#fdca26"
             ],
             [
              1,
              "#f0f921"
             ]
            ],
            "type": "heatmap"
           }
          ],
          "heatmapgl": [
           {
            "colorbar": {
             "outlinewidth": 0,
             "ticks": ""
            },
            "colorscale": [
             [
              0,
              "#0d0887"
             ],
             [
              0.1111111111111111,
              "#46039f"
             ],
             [
              0.2222222222222222,
              "#7201a8"
             ],
             [
              0.3333333333333333,
              "#9c179e"
             ],
             [
              0.4444444444444444,
              "#bd3786"
             ],
             [
              0.5555555555555556,
              "#d8576b"
             ],
             [
              0.6666666666666666,
              "#ed7953"
             ],
             [
              0.7777777777777778,
              "#fb9f3a"
             ],
             [
              0.8888888888888888,
              "#fdca26"
             ],
             [
              1,
              "#f0f921"
             ]
            ],
            "type": "heatmapgl"
           }
          ],
          "histogram": [
           {
            "marker": {
             "pattern": {
              "fillmode": "overlay",
              "size": 10,
              "solidity": 0.2
             }
            },
            "type": "histogram"
           }
          ],
          "histogram2d": [
           {
            "colorbar": {
             "outlinewidth": 0,
             "ticks": ""
            },
            "colorscale": [
             [
              0,
              "#0d0887"
             ],
             [
              0.1111111111111111,
              "#46039f"
             ],
             [
              0.2222222222222222,
              "#7201a8"
             ],
             [
              0.3333333333333333,
              "#9c179e"
             ],
             [
              0.4444444444444444,
              "#bd3786"
             ],
             [
              0.5555555555555556,
              "#d8576b"
             ],
             [
              0.6666666666666666,
              "#ed7953"
             ],
             [
              0.7777777777777778,
              "#fb9f3a"
             ],
             [
              0.8888888888888888,
              "#fdca26"
             ],
             [
              1,
              "#f0f921"
             ]
            ],
            "type": "histogram2d"
           }
          ],
          "histogram2dcontour": [
           {
            "colorbar": {
             "outlinewidth": 0,
             "ticks": ""
            },
            "colorscale": [
             [
              0,
              "#0d0887"
             ],
             [
              0.1111111111111111,
              "#46039f"
             ],
             [
              0.2222222222222222,
              "#7201a8"
             ],
             [
              0.3333333333333333,
              "#9c179e"
             ],
             [
              0.4444444444444444,
              "#bd3786"
             ],
             [
              0.5555555555555556,
              "#d8576b"
             ],
             [
              0.6666666666666666,
              "#ed7953"
             ],
             [
              0.7777777777777778,
              "#fb9f3a"
             ],
             [
              0.8888888888888888,
              "#fdca26"
             ],
             [
              1,
              "#f0f921"
             ]
            ],
            "type": "histogram2dcontour"
           }
          ],
          "mesh3d": [
           {
            "colorbar": {
             "outlinewidth": 0,
             "ticks": ""
            },
            "type": "mesh3d"
           }
          ],
          "parcoords": [
           {
            "line": {
             "colorbar": {
              "outlinewidth": 0,
              "ticks": ""
             }
            },
            "type": "parcoords"
           }
          ],
          "pie": [
           {
            "automargin": true,
            "type": "pie"
           }
          ],
          "scatter": [
           {
            "marker": {
             "colorbar": {
              "outlinewidth": 0,
              "ticks": ""
             }
            },
            "type": "scatter"
           }
          ],
          "scatter3d": [
           {
            "line": {
             "colorbar": {
              "outlinewidth": 0,
              "ticks": ""
             }
            },
            "marker": {
             "colorbar": {
              "outlinewidth": 0,
              "ticks": ""
             }
            },
            "type": "scatter3d"
           }
          ],
          "scattercarpet": [
           {
            "marker": {
             "colorbar": {
              "outlinewidth": 0,
              "ticks": ""
             }
            },
            "type": "scattercarpet"
           }
          ],
          "scattergeo": [
           {
            "marker": {
             "colorbar": {
              "outlinewidth": 0,
              "ticks": ""
             }
            },
            "type": "scattergeo"
           }
          ],
          "scattergl": [
           {
            "marker": {
             "colorbar": {
              "outlinewidth": 0,
              "ticks": ""
             }
            },
            "type": "scattergl"
           }
          ],
          "scattermapbox": [
           {
            "marker": {
             "colorbar": {
              "outlinewidth": 0,
              "ticks": ""
             }
            },
            "type": "scattermapbox"
           }
          ],
          "scatterpolar": [
           {
            "marker": {
             "colorbar": {
              "outlinewidth": 0,
              "ticks": ""
             }
            },
            "type": "scatterpolar"
           }
          ],
          "scatterpolargl": [
           {
            "marker": {
             "colorbar": {
              "outlinewidth": 0,
              "ticks": ""
             }
            },
            "type": "scatterpolargl"
           }
          ],
          "scatterternary": [
           {
            "marker": {
             "colorbar": {
              "outlinewidth": 0,
              "ticks": ""
             }
            },
            "type": "scatterternary"
           }
          ],
          "surface": [
           {
            "colorbar": {
             "outlinewidth": 0,
             "ticks": ""
            },
            "colorscale": [
             [
              0,
              "#0d0887"
             ],
             [
              0.1111111111111111,
              "#46039f"
             ],
             [
              0.2222222222222222,
              "#7201a8"
             ],
             [
              0.3333333333333333,
              "#9c179e"
             ],
             [
              0.4444444444444444,
              "#bd3786"
             ],
             [
              0.5555555555555556,
              "#d8576b"
             ],
             [
              0.6666666666666666,
              "#ed7953"
             ],
             [
              0.7777777777777778,
              "#fb9f3a"
             ],
             [
              0.8888888888888888,
              "#fdca26"
             ],
             [
              1,
              "#f0f921"
             ]
            ],
            "type": "surface"
           }
          ],
          "table": [
           {
            "cells": {
             "fill": {
              "color": "#EBF0F8"
             },
             "line": {
              "color": "white"
             }
            },
            "header": {
             "fill": {
              "color": "#C8D4E3"
             },
             "line": {
              "color": "white"
             }
            },
            "type": "table"
           }
          ]
         },
         "layout": {
          "annotationdefaults": {
           "arrowcolor": "#2a3f5f",
           "arrowhead": 0,
           "arrowwidth": 1
          },
          "autotypenumbers": "strict",
          "coloraxis": {
           "colorbar": {
            "outlinewidth": 0,
            "ticks": ""
           }
          },
          "colorscale": {
           "diverging": [
            [
             0,
             "#8e0152"
            ],
            [
             0.1,
             "#c51b7d"
            ],
            [
             0.2,
             "#de77ae"
            ],
            [
             0.3,
             "#f1b6da"
            ],
            [
             0.4,
             "#fde0ef"
            ],
            [
             0.5,
             "#f7f7f7"
            ],
            [
             0.6,
             "#e6f5d0"
            ],
            [
             0.7,
             "#b8e186"
            ],
            [
             0.8,
             "#7fbc41"
            ],
            [
             0.9,
             "#4d9221"
            ],
            [
             1,
             "#276419"
            ]
           ],
           "sequential": [
            [
             0,
             "#0d0887"
            ],
            [
             0.1111111111111111,
             "#46039f"
            ],
            [
             0.2222222222222222,
             "#7201a8"
            ],
            [
             0.3333333333333333,
             "#9c179e"
            ],
            [
             0.4444444444444444,
             "#bd3786"
            ],
            [
             0.5555555555555556,
             "#d8576b"
            ],
            [
             0.6666666666666666,
             "#ed7953"
            ],
            [
             0.7777777777777778,
             "#fb9f3a"
            ],
            [
             0.8888888888888888,
             "#fdca26"
            ],
            [
             1,
             "#f0f921"
            ]
           ],
           "sequentialminus": [
            [
             0,
             "#0d0887"
            ],
            [
             0.1111111111111111,
             "#46039f"
            ],
            [
             0.2222222222222222,
             "#7201a8"
            ],
            [
             0.3333333333333333,
             "#9c179e"
            ],
            [
             0.4444444444444444,
             "#bd3786"
            ],
            [
             0.5555555555555556,
             "#d8576b"
            ],
            [
             0.6666666666666666,
             "#ed7953"
            ],
            [
             0.7777777777777778,
             "#fb9f3a"
            ],
            [
             0.8888888888888888,
             "#fdca26"
            ],
            [
             1,
             "#f0f921"
            ]
           ]
          },
          "colorway": [
           "#636efa",
           "#EF553B",
           "#00cc96",
           "#ab63fa",
           "#FFA15A",
           "#19d3f3",
           "#FF6692",
           "#B6E880",
           "#FF97FF",
           "#FECB52"
          ],
          "font": {
           "color": "#2a3f5f"
          },
          "geo": {
           "bgcolor": "white",
           "lakecolor": "white",
           "landcolor": "#E5ECF6",
           "showlakes": true,
           "showland": true,
           "subunitcolor": "white"
          },
          "hoverlabel": {
           "align": "left"
          },
          "hovermode": "closest",
          "mapbox": {
           "style": "light"
          },
          "paper_bgcolor": "white",
          "plot_bgcolor": "#E5ECF6",
          "polar": {
           "angularaxis": {
            "gridcolor": "white",
            "linecolor": "white",
            "ticks": ""
           },
           "bgcolor": "#E5ECF6",
           "radialaxis": {
            "gridcolor": "white",
            "linecolor": "white",
            "ticks": ""
           }
          },
          "scene": {
           "xaxis": {
            "backgroundcolor": "#E5ECF6",
            "gridcolor": "white",
            "gridwidth": 2,
            "linecolor": "white",
            "showbackground": true,
            "ticks": "",
            "zerolinecolor": "white"
           },
           "yaxis": {
            "backgroundcolor": "#E5ECF6",
            "gridcolor": "white",
            "gridwidth": 2,
            "linecolor": "white",
            "showbackground": true,
            "ticks": "",
            "zerolinecolor": "white"
           },
           "zaxis": {
            "backgroundcolor": "#E5ECF6",
            "gridcolor": "white",
            "gridwidth": 2,
            "linecolor": "white",
            "showbackground": true,
            "ticks": "",
            "zerolinecolor": "white"
           }
          },
          "shapedefaults": {
           "line": {
            "color": "#2a3f5f"
           }
          },
          "ternary": {
           "aaxis": {
            "gridcolor": "white",
            "linecolor": "white",
            "ticks": ""
           },
           "baxis": {
            "gridcolor": "white",
            "linecolor": "white",
            "ticks": ""
           },
           "bgcolor": "#E5ECF6",
           "caxis": {
            "gridcolor": "white",
            "linecolor": "white",
            "ticks": ""
           }
          },
          "title": {
           "x": 0.05
          },
          "xaxis": {
           "automargin": true,
           "gridcolor": "white",
           "linecolor": "white",
           "ticks": "",
           "title": {
            "standoff": 15
           },
           "zerolinecolor": "white",
           "zerolinewidth": 2
          },
          "yaxis": {
           "automargin": true,
           "gridcolor": "white",
           "linecolor": "white",
           "ticks": "",
           "title": {
            "standoff": 15
           },
           "zerolinecolor": "white",
           "zerolinewidth": 2
          }
         }
        },
        "title": {
         "font": {
          "color": "black",
          "family": "'Oswald', sans-serif",
          "size": 32
         },
         "text": "<b>Bulian Synthetic Data Quality Report<b>",
         "x": 0.5,
         "xanchor": "center",
         "y": 0.94,
         "yanchor": "top"
        },
        "xaxis": {
         "range": [
          0,
          1
         ],
         "showgrid": false,
         "showticklabels": true
        },
        "yaxis": {
         "range": [
          0,
          1
         ],
         "showgrid": false,
         "showticklabels": true
        }
       }
      }
     },
     "metadata": {},
     "output_type": "display_data"
    },
    {
     "data": {
      "application/vnd.plotly.v1+json": {
       "config": {
        "plotlyServerURL": "https://plot.ly"
       },
       "data": [
        {
         "delta": {
          "font": {
           "size": 12
          },
          "increasing": {
           "color": "white"
          },
          "reference": 0
         },
         "domain": {
          "x": [
           0,
           0.475
          ],
          "y": [
           0,
           1
          ]
         },
         "gauge": {
          "axis": {
           "range": [
            null,
            100
           ],
           "tickcolor": "white",
           "tickwidth": 0
          },
          "bar": {
           "color": "grey",
           "thickness": 0.3
          },
          "bgcolor": "white",
          "bordercolor": "white",
          "borderwidth": 5,
          "steps": [
           {
            "color": "#FF8C19",
            "range": [
             0,
             20
            ]
           },
           {
            "color": "#FFFF80",
            "range": [
             20,
             40
            ]
           },
           {
            "color": "#BFFFB3",
            "range": [
             40,
             60
            ]
           },
           {
            "color": "#BBFF33",
            "range": [
             60,
             80
            ]
           },
           {
            "color": "#1EB300",
            "range": [
             80,
             101
            ]
           }
          ],
          "threshold": {
           "line": {
            "color": "grey",
            "width": 6
           },
           "thickness": 0,
           "value": 100
          }
         },
         "mode": "gauge+number+delta",
         "number": {
          "font": {
           "color": "grey",
           "family": "'Oswald', sans-serif",
           "size": 12
          },
          "prefix": "<b>Similarity Score<b>: "
         },
         "type": "indicator",
         "value": 95
        },
        {
         "delta": {
          "font": {
           "size": 12
          },
          "increasing": {
           "color": "white"
          },
          "reference": 0
         },
         "domain": {
          "x": [
           0.525,
           1
          ],
          "y": [
           0,
           1
          ]
         },
         "gauge": {
          "axis": {
           "range": [
            null,
            100
           ],
           "tickcolor": "white",
           "tickwidth": 0
          },
          "bar": {
           "color": "grey",
           "thickness": 0.3
          },
          "bgcolor": "white",
          "bordercolor": "white",
          "borderwidth": 5,
          "steps": [
           {
            "color": "#FF8C19",
            "range": [
             0,
             20
            ]
           },
           {
            "color": "#FFFF80",
            "range": [
             20,
             40
            ]
           },
           {
            "color": "#BFFFB3",
            "range": [
             40,
             60
            ]
           },
           {
            "color": "#BBFF33",
            "range": [
             60,
             80
            ]
           },
           {
            "color": "#1EB300",
            "range": [
             80,
             101
            ]
           }
          ],
          "threshold": {
           "line": {
            "color": "grey",
            "width": 6
           },
           "thickness": 0,
           "value": 100
          }
         },
         "mode": "gauge+number+delta",
         "number": {
          "font": {
           "color": "grey",
           "family": "'Oswald', sans-serif",
           "size": 12
          },
          "prefix": "<b>ML Efficacy Score<b>: "
         },
         "type": "indicator",
         "value": 44
        }
       ],
       "layout": {
        "autosize": false,
        "font": {
         "color": "black",
         "family": "'Oswald', sans-serif"
        },
        "height": 300,
        "plot_bgcolor": "rgba(0,0,0,0)",
        "template": {
         "data": {
          "bar": [
           {
            "error_x": {
             "color": "#2a3f5f"
            },
            "error_y": {
             "color": "#2a3f5f"
            },
            "marker": {
             "line": {
              "color": "#E5ECF6",
              "width": 0.5
             },
             "pattern": {
              "fillmode": "overlay",
              "size": 10,
              "solidity": 0.2
             }
            },
            "type": "bar"
           }
          ],
          "barpolar": [
           {
            "marker": {
             "line": {
              "color": "#E5ECF6",
              "width": 0.5
             },
             "pattern": {
              "fillmode": "overlay",
              "size": 10,
              "solidity": 0.2
             }
            },
            "type": "barpolar"
           }
          ],
          "carpet": [
           {
            "aaxis": {
             "endlinecolor": "#2a3f5f",
             "gridcolor": "white",
             "linecolor": "white",
             "minorgridcolor": "white",
             "startlinecolor": "#2a3f5f"
            },
            "baxis": {
             "endlinecolor": "#2a3f5f",
             "gridcolor": "white",
             "linecolor": "white",
             "minorgridcolor": "white",
             "startlinecolor": "#2a3f5f"
            },
            "type": "carpet"
           }
          ],
          "choropleth": [
           {
            "colorbar": {
             "outlinewidth": 0,
             "ticks": ""
            },
            "type": "choropleth"
           }
          ],
          "contour": [
           {
            "colorbar": {
             "outlinewidth": 0,
             "ticks": ""
            },
            "colorscale": [
             [
              0,
              "#0d0887"
             ],
             [
              0.1111111111111111,
              "#46039f"
             ],
             [
              0.2222222222222222,
              "#7201a8"
             ],
             [
              0.3333333333333333,
              "#9c179e"
             ],
             [
              0.4444444444444444,
              "#bd3786"
             ],
             [
              0.5555555555555556,
              "#d8576b"
             ],
             [
              0.6666666666666666,
              "#ed7953"
             ],
             [
              0.7777777777777778,
              "#fb9f3a"
             ],
             [
              0.8888888888888888,
              "#fdca26"
             ],
             [
              1,
              "#f0f921"
             ]
            ],
            "type": "contour"
           }
          ],
          "contourcarpet": [
           {
            "colorbar": {
             "outlinewidth": 0,
             "ticks": ""
            },
            "type": "contourcarpet"
           }
          ],
          "heatmap": [
           {
            "colorbar": {
             "outlinewidth": 0,
             "ticks": ""
            },
            "colorscale": [
             [
              0,
              "#0d0887"
             ],
             [
              0.1111111111111111,
              "#46039f"
             ],
             [
              0.2222222222222222,
              "#7201a8"
             ],
             [
              0.3333333333333333,
              "#9c179e"
             ],
             [
              0.4444444444444444,
              "#bd3786"
             ],
             [
              0.5555555555555556,
              "#d8576b"
             ],
             [
              0.6666666666666666,
              "#ed7953"
             ],
             [
              0.7777777777777778,
              "#fb9f3a"
             ],
             [
              0.8888888888888888,
              "#fdca26"
             ],
             [
              1,
              "#f0f921"
             ]
            ],
            "type": "heatmap"
           }
          ],
          "heatmapgl": [
           {
            "colorbar": {
             "outlinewidth": 0,
             "ticks": ""
            },
            "colorscale": [
             [
              0,
              "#0d0887"
             ],
             [
              0.1111111111111111,
              "#46039f"
             ],
             [
              0.2222222222222222,
              "#7201a8"
             ],
             [
              0.3333333333333333,
              "#9c179e"
             ],
             [
              0.4444444444444444,
              "#bd3786"
             ],
             [
              0.5555555555555556,
              "#d8576b"
             ],
             [
              0.6666666666666666,
              "#ed7953"
             ],
             [
              0.7777777777777778,
              "#fb9f3a"
             ],
             [
              0.8888888888888888,
              "#fdca26"
             ],
             [
              1,
              "#f0f921"
             ]
            ],
            "type": "heatmapgl"
           }
          ],
          "histogram": [
           {
            "marker": {
             "pattern": {
              "fillmode": "overlay",
              "size": 10,
              "solidity": 0.2
             }
            },
            "type": "histogram"
           }
          ],
          "histogram2d": [
           {
            "colorbar": {
             "outlinewidth": 0,
             "ticks": ""
            },
            "colorscale": [
             [
              0,
              "#0d0887"
             ],
             [
              0.1111111111111111,
              "#46039f"
             ],
             [
              0.2222222222222222,
              "#7201a8"
             ],
             [
              0.3333333333333333,
              "#9c179e"
             ],
             [
              0.4444444444444444,
              "#bd3786"
             ],
             [
              0.5555555555555556,
              "#d8576b"
             ],
             [
              0.6666666666666666,
              "#ed7953"
             ],
             [
              0.7777777777777778,
              "#fb9f3a"
             ],
             [
              0.8888888888888888,
              "#fdca26"
             ],
             [
              1,
              "#f0f921"
             ]
            ],
            "type": "histogram2d"
           }
          ],
          "histogram2dcontour": [
           {
            "colorbar": {
             "outlinewidth": 0,
             "ticks": ""
            },
            "colorscale": [
             [
              0,
              "#0d0887"
             ],
             [
              0.1111111111111111,
              "#46039f"
             ],
             [
              0.2222222222222222,
              "#7201a8"
             ],
             [
              0.3333333333333333,
              "#9c179e"
             ],
             [
              0.4444444444444444,
              "#bd3786"
             ],
             [
              0.5555555555555556,
              "#d8576b"
             ],
             [
              0.6666666666666666,
              "#ed7953"
             ],
             [
              0.7777777777777778,
              "#fb9f3a"
             ],
             [
              0.8888888888888888,
              "#fdca26"
             ],
             [
              1,
              "#f0f921"
             ]
            ],
            "type": "histogram2dcontour"
           }
          ],
          "mesh3d": [
           {
            "colorbar": {
             "outlinewidth": 0,
             "ticks": ""
            },
            "type": "mesh3d"
           }
          ],
          "parcoords": [
           {
            "line": {
             "colorbar": {
              "outlinewidth": 0,
              "ticks": ""
             }
            },
            "type": "parcoords"
           }
          ],
          "pie": [
           {
            "automargin": true,
            "type": "pie"
           }
          ],
          "scatter": [
           {
            "marker": {
             "colorbar": {
              "outlinewidth": 0,
              "ticks": ""
             }
            },
            "type": "scatter"
           }
          ],
          "scatter3d": [
           {
            "line": {
             "colorbar": {
              "outlinewidth": 0,
              "ticks": ""
             }
            },
            "marker": {
             "colorbar": {
              "outlinewidth": 0,
              "ticks": ""
             }
            },
            "type": "scatter3d"
           }
          ],
          "scattercarpet": [
           {
            "marker": {
             "colorbar": {
              "outlinewidth": 0,
              "ticks": ""
             }
            },
            "type": "scattercarpet"
           }
          ],
          "scattergeo": [
           {
            "marker": {
             "colorbar": {
              "outlinewidth": 0,
              "ticks": ""
             }
            },
            "type": "scattergeo"
           }
          ],
          "scattergl": [
           {
            "marker": {
             "colorbar": {
              "outlinewidth": 0,
              "ticks": ""
             }
            },
            "type": "scattergl"
           }
          ],
          "scattermapbox": [
           {
            "marker": {
             "colorbar": {
              "outlinewidth": 0,
              "ticks": ""
             }
            },
            "type": "scattermapbox"
           }
          ],
          "scatterpolar": [
           {
            "marker": {
             "colorbar": {
              "outlinewidth": 0,
              "ticks": ""
             }
            },
            "type": "scatterpolar"
           }
          ],
          "scatterpolargl": [
           {
            "marker": {
             "colorbar": {
              "outlinewidth": 0,
              "ticks": ""
             }
            },
            "type": "scatterpolargl"
           }
          ],
          "scatterternary": [
           {
            "marker": {
             "colorbar": {
              "outlinewidth": 0,
              "ticks": ""
             }
            },
            "type": "scatterternary"
           }
          ],
          "surface": [
           {
            "colorbar": {
             "outlinewidth": 0,
             "ticks": ""
            },
            "colorscale": [
             [
              0,
              "#0d0887"
             ],
             [
              0.1111111111111111,
              "#46039f"
             ],
             [
              0.2222222222222222,
              "#7201a8"
             ],
             [
              0.3333333333333333,
              "#9c179e"
             ],
             [
              0.4444444444444444,
              "#bd3786"
             ],
             [
              0.5555555555555556,
              "#d8576b"
             ],
             [
              0.6666666666666666,
              "#ed7953"
             ],
             [
              0.7777777777777778,
              "#fb9f3a"
             ],
             [
              0.8888888888888888,
              "#fdca26"
             ],
             [
              1,
              "#f0f921"
             ]
            ],
            "type": "surface"
           }
          ],
          "table": [
           {
            "cells": {
             "fill": {
              "color": "#EBF0F8"
             },
             "line": {
              "color": "white"
             }
            },
            "header": {
             "fill": {
              "color": "#C8D4E3"
             },
             "line": {
              "color": "white"
             }
            },
            "type": "table"
           }
          ]
         },
         "layout": {
          "annotationdefaults": {
           "arrowcolor": "#2a3f5f",
           "arrowhead": 0,
           "arrowwidth": 1
          },
          "autotypenumbers": "strict",
          "coloraxis": {
           "colorbar": {
            "outlinewidth": 0,
            "ticks": ""
           }
          },
          "colorscale": {
           "diverging": [
            [
             0,
             "#8e0152"
            ],
            [
             0.1,
             "#c51b7d"
            ],
            [
             0.2,
             "#de77ae"
            ],
            [
             0.3,
             "#f1b6da"
            ],
            [
             0.4,
             "#fde0ef"
            ],
            [
             0.5,
             "#f7f7f7"
            ],
            [
             0.6,
             "#e6f5d0"
            ],
            [
             0.7,
             "#b8e186"
            ],
            [
             0.8,
             "#7fbc41"
            ],
            [
             0.9,
             "#4d9221"
            ],
            [
             1,
             "#276419"
            ]
           ],
           "sequential": [
            [
             0,
             "#0d0887"
            ],
            [
             0.1111111111111111,
             "#46039f"
            ],
            [
             0.2222222222222222,
             "#7201a8"
            ],
            [
             0.3333333333333333,
             "#9c179e"
            ],
            [
             0.4444444444444444,
             "#bd3786"
            ],
            [
             0.5555555555555556,
             "#d8576b"
            ],
            [
             0.6666666666666666,
             "#ed7953"
            ],
            [
             0.7777777777777778,
             "#fb9f3a"
            ],
            [
             0.8888888888888888,
             "#fdca26"
            ],
            [
             1,
             "#f0f921"
            ]
           ],
           "sequentialminus": [
            [
             0,
             "#0d0887"
            ],
            [
             0.1111111111111111,
             "#46039f"
            ],
            [
             0.2222222222222222,
             "#7201a8"
            ],
            [
             0.3333333333333333,
             "#9c179e"
            ],
            [
             0.4444444444444444,
             "#bd3786"
            ],
            [
             0.5555555555555556,
             "#d8576b"
            ],
            [
             0.6666666666666666,
             "#ed7953"
            ],
            [
             0.7777777777777778,
             "#fb9f3a"
            ],
            [
             0.8888888888888888,
             "#fdca26"
            ],
            [
             1,
             "#f0f921"
            ]
           ]
          },
          "colorway": [
           "#636efa",
           "#EF553B",
           "#00cc96",
           "#ab63fa",
           "#FFA15A",
           "#19d3f3",
           "#FF6692",
           "#B6E880",
           "#FF97FF",
           "#FECB52"
          ],
          "font": {
           "color": "#2a3f5f"
          },
          "geo": {
           "bgcolor": "white",
           "lakecolor": "white",
           "landcolor": "#E5ECF6",
           "showlakes": true,
           "showland": true,
           "subunitcolor": "white"
          },
          "hoverlabel": {
           "align": "left"
          },
          "hovermode": "closest",
          "mapbox": {
           "style": "light"
          },
          "paper_bgcolor": "white",
          "plot_bgcolor": "#E5ECF6",
          "polar": {
           "angularaxis": {
            "gridcolor": "white",
            "linecolor": "white",
            "ticks": ""
           },
           "bgcolor": "#E5ECF6",
           "radialaxis": {
            "gridcolor": "white",
            "linecolor": "white",
            "ticks": ""
           }
          },
          "scene": {
           "xaxis": {
            "backgroundcolor": "#E5ECF6",
            "gridcolor": "white",
            "gridwidth": 2,
            "linecolor": "white",
            "showbackground": true,
            "ticks": "",
            "zerolinecolor": "white"
           },
           "yaxis": {
            "backgroundcolor": "#E5ECF6",
            "gridcolor": "white",
            "gridwidth": 2,
            "linecolor": "white",
            "showbackground": true,
            "ticks": "",
            "zerolinecolor": "white"
           },
           "zaxis": {
            "backgroundcolor": "#E5ECF6",
            "gridcolor": "white",
            "gridwidth": 2,
            "linecolor": "white",
            "showbackground": true,
            "ticks": "",
            "zerolinecolor": "white"
           }
          },
          "shapedefaults": {
           "line": {
            "color": "#2a3f5f"
           }
          },
          "ternary": {
           "aaxis": {
            "gridcolor": "white",
            "linecolor": "white",
            "ticks": ""
           },
           "baxis": {
            "gridcolor": "white",
            "linecolor": "white",
            "ticks": ""
           },
           "bgcolor": "#E5ECF6",
           "caxis": {
            "gridcolor": "white",
            "linecolor": "white",
            "ticks": ""
           }
          },
          "title": {
           "x": 0.05
          },
          "xaxis": {
           "automargin": true,
           "gridcolor": "white",
           "linecolor": "white",
           "ticks": "",
           "title": {
            "standoff": 15
           },
           "zerolinecolor": "white",
           "zerolinewidth": 2
          },
          "yaxis": {
           "automargin": true,
           "gridcolor": "white",
           "linecolor": "white",
           "ticks": "",
           "title": {
            "standoff": 15
           },
           "zerolinecolor": "white",
           "zerolinewidth": 2
          }
         }
        },
        "title": {
         "text": ""
        },
        "width": 1200,
        "xaxis": {
         "range": [
          0,
          1
         ],
         "showgrid": false,
         "showticklabels": true
        },
        "yaxis": {
         "range": [
          0,
          1
         ],
         "showgrid": false,
         "showticklabels": true
        }
       }
      }
     },
     "metadata": {},
     "output_type": "display_data"
    },
    {
     "data": {
      "image/png": "[encoded data removed]",
      "text/plain": [
       "<Figure size 1080x360 with 4 Axes>"
      ]
     },
     "metadata": {
      "needs_background": "light"
     },
     "output_type": "display_data"
    },
    {
     "data": {
      "image/png": "[encoded data removed]",
      "text/plain": [
       "<Figure size 1440x288 with 1 Axes>"
      ]
     },
     "metadata": {
      "needs_background": "light"
     },
     "output_type": "display_data"
    },
    {
     "data": {
      "image/png": "[encoded data removed]",
      "text/plain": [
       "<Figure size 1440x288 with 1 Axes>"
      ]
     },
     "metadata": {
      "needs_background": "light"
     },
     "output_type": "display_data"
    },
    {
     "data": {
      "image/png": "[encoded data removed]",
      "text/plain": [
       "<Figure size 1440x288 with 1 Axes>"
      ]
     },
     "metadata": {
      "needs_background": "light"
     },
     "output_type": "display_data"
    },
    {
     "data": {
      "image/png": "[encoded data removed]",
      "text/plain": [
       "<Figure size 1440x288 with 1 Axes>"
      ]
     },
     "metadata": {
      "needs_background": "light"
     },
     "output_type": "display_data"
    },
    {
     "data": {
      "image/png": "[encoded data removed]",
      "text/plain": [
       "<Figure size 1440x288 with 1 Axes>"
      ]
     },
     "metadata": {
      "needs_background": "light"
     },
     "output_type": "display_data"
    },
    {
     "data": {
      "image/png": "[encoded data removed]",
      "text/plain": [
       "<Figure size 1440x288 with 1 Axes>"
      ]
     },
     "metadata": {
      "needs_background": "light"
     },
     "output_type": "display_data"
    },
    {
     "data": {
      "image/png": "[encoded data removed]",
      "text/plain": [
       "<Figure size 1440x288 with 1 Axes>"
      ]
     },
     "metadata": {
      "needs_background": "light"
     },
     "output_type": "display_data"
    },
    {
     "data": {
      "image/png": "[encoded data removed]",
      "text/plain": [
       "<Figure size 1440x288 with 1 Axes>"
      ]
     },
     "metadata": {
      "needs_background": "light"
     },
     "output_type": "display_data"
    },
    {
     "data": {
      "image/png": "[encoded data removed]",
      "text/plain": [
       "<Figure size 1440x288 with 1 Axes>"
      ]
     },
     "metadata": {
      "needs_background": "light"
     },
     "output_type": "display_data"
    },
    {
     "data": {
      "image/png": "[encoded data removed]",
      "text/plain": [
       "<Figure size 1440x288 with 1 Axes>"
      ]
     },
     "metadata": {
      "needs_background": "light"
     },
     "output_type": "display_data"
    },
    {
     "data": {
      "image/png": "[encoded data removed]",
      "text/plain": [
       "<Figure size 1440x288 with 1 Axes>"
      ]
     },
     "metadata": {
      "needs_background": "light"
     },
     "output_type": "display_data"
    }
   ],
   "source": [
    "get_full_report(churn, sample,discrete_columns,numeric_features,target='Exited')"
   ]
  },
  {
   "cell_type": "markdown",
   "metadata": {},
   "source": [
    "### Test churn ML Performance on standalone real data vs real+synthetic data"
   ]
  },
  {
   "cell_type": "code",
   "execution_count": 73,
   "metadata": {},
   "outputs": [],
   "source": [
    "sample = sample[sample['Exited']==1].reset_index(drop=True)"
   ]
  },
  {
   "cell_type": "code",
   "execution_count": 74,
   "metadata": {},
   "outputs": [],
   "source": [
    "real_data = churn\n",
    "synthetic_data = sample\n",
    "real_with_synthetic = pd.concat([real_data,synthetic_data],0).reset_index(drop=True) "
   ]
  },
  {
   "cell_type": "markdown",
   "metadata": {},
   "source": [
    "### Random Forest model on real vs real+synthetic data"
   ]
  },
  {
   "cell_type": "code",
   "execution_count": 75,
   "metadata": {},
   "outputs": [],
   "source": [
    "from sklearn.model_selection import train_test_split\n",
    "from sklearn.ensemble import RandomForestClassifier\n",
    "from sklearn.metrics import roc_auc_score\n",
    "from sklearn.preprocessing import LabelEncoder"
   ]
  },
  {
   "cell_type": "code",
   "execution_count": 76,
   "metadata": {},
   "outputs": [
    {
     "data": {
      "text/plain": [
       "Index(['Geography', 'Gender'], dtype='object')"
      ]
     },
     "execution_count": 76,
     "metadata": {},
     "output_type": "execute_result"
    }
   ],
   "source": [
    "churn.select_dtypes('object').columns"
   ]
  },
  {
   "cell_type": "code",
   "execution_count": 77,
   "metadata": {},
   "outputs": [],
   "source": [
    "### Convert string cols to interets with Label Encoders\n",
    "\n",
    "O_cols = churn.select_dtypes('object').columns\n",
    "\n",
    "for o in O_cols:\n",
    "    LE = LabelEncoder()\n",
    "    real_data[o] = LE.fit_transform(real_data[o])\n",
    "    real_with_synthetic[o]=LE.transform(real_with_synthetic[o])"
   ]
  },
  {
   "cell_type": "code",
   "execution_count": 78,
   "metadata": {},
   "outputs": [],
   "source": [
    "real_X_train, real_X_test,real_Y_train,real_Y_test = train_test_split(real_data.drop(target,1),real_data[target],stratify=real_data[target])\n",
    "combined_X_train, combined_X_test,combined_Y_train,combined_Y_test = train_test_split(real_with_synthetic.drop(target,1),real_with_synthetic[target],stratify=real_with_synthetic[target])"
   ]
  },
  {
   "cell_type": "code",
   "execution_count": 79,
   "metadata": {},
   "outputs": [
    {
     "name": "stdout",
     "output_type": "stream",
     "text": [
      "AUC Score with real only data:0.8581174223100219\n"
     ]
    }
   ],
   "source": [
    "rf_real = RandomForestClassifier()\n",
    "rf_real.fit(real_X_train,real_Y_train)\n",
    "probs = rf_real.predict_proba(real_X_test)[:,1]\n",
    "\n",
    "print(f'AUC Score with real only data:{roc_auc_score(real_Y_test,probs)}')"
   ]
  },
  {
   "cell_type": "code",
   "execution_count": 80,
   "metadata": {},
   "outputs": [
    {
     "name": "stdout",
     "output_type": "stream",
     "text": [
      "AUC Score with combined data:0.8791177947824032\n"
     ]
    }
   ],
   "source": [
    "rf_real = RandomForestClassifier()\n",
    "rf_real.fit(combined_X_train,combined_Y_train)\n",
    "probs = rf_real.predict_proba(combined_X_test)[:,1]\n",
    "\n",
    "print(f'AUC Score with combined data:{roc_auc_score(combined_Y_test,probs)}')"
   ]
  },
  {
   "cell_type": "markdown",
   "metadata": {},
   "source": [
    "### Fin ###"
   ]
  },
  {
   "cell_type": "code",
   "execution_count": null,
   "metadata": {},
   "outputs": [],
   "source": []
  }
 ],
 "metadata": {
  "kernelspec": {
   "display_name": "Python 3.8.12 ('Videha')",
   "language": "python",
   "name": "python3"
  },
  "language_info": {
   "codemirror_mode": {
    "name": "ipython",
    "version": 3
   },
   "file_extension": ".py",
   "mimetype": "text/x-python",
   "name": "python",
   "nbconvert_exporter": "python",
   "pygments_lexer": "ipython3",
   "version": "3.8.12"
  },
  "vscode": {
   "interpreter": {
    "hash": "764c6ab5a4abd27f8d4f016809fe54f1c58b9a5d8d5d13d19f8040f16175b994"
   }
  }
 },
 "nbformat": 4,
 "nbformat_minor": 2
}
