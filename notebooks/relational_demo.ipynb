{
 "cells": [
  {
   "cell_type": "code",
   "execution_count": 1,
   "metadata": {},
   "outputs": [],
   "source": [
    "import os\n",
    "import graphviz\n"
   ]
  },
  {
   "cell_type": "code",
   "execution_count": 2,
   "metadata": {},
   "outputs": [
    {
     "name": "stderr",
     "output_type": "stream",
     "text": [
      "c:\\Users\\anaconda\\envs\\BulianAI\\lib\\site-packages\\scipy\\__init__.py:146: UserWarning: A NumPy version >=1.16.5 and <1.23.0 is required for this version of SciPy (detected version 1.23.1\n",
      "  warnings.warn(f\"A NumPy version >={np_minversion} and <{np_maxversion}\"\n"
     ]
    },
    {
     "data": {
      "text/plain": [
       "'0.6.4'"
      ]
     },
     "execution_count": 2,
     "metadata": {},
     "output_type": "execute_result"
    }
   ],
   "source": [
    "import rdt\n",
    "rdt.__version__"
   ]
  },
  {
   "cell_type": "code",
   "execution_count": 2,
   "metadata": {},
   "outputs": [],
   "source": [
    "sys.path.insert(1,r'F:\\Users\\Kaggle\\bulian')"
   ]
  },
  {
   "cell_type": "code",
   "execution_count": 3,
   "metadata": {},
   "outputs": [
    {
     "name": "stderr",
     "output_type": "stream",
     "text": [
      "c:\\Users\\anaconda\\envs\\BulianAI\\lib\\site-packages\\tqdm\\auto.py:22: TqdmWarning: IProgress not found. Please update jupyter and ipywidgets. See https://ipywidgets.readthedocs.io/en/stable/user_install.html\n",
      "  from .autonotebook import tqdm as notebook_tqdm\n"
     ]
    }
   ],
   "source": [
    "import os,sys,torch\n",
    "import pandas as pd"
   ]
  },
  {
   "cell_type": "code",
   "execution_count": 4,
   "metadata": {},
   "outputs": [
    {
     "name": "stderr",
     "output_type": "stream",
     "text": [
      "c:\\Users\\anaconda\\envs\\BulianAI\\lib\\site-packages\\scipy\\__init__.py:146: UserWarning: A NumPy version >=1.16.5 and <1.23.0 is required for this version of SciPy (detected version 1.23.1\n",
      "  warnings.warn(f\"A NumPy version >={np_minversion} and <{np_maxversion}\"\n"
     ]
    }
   ],
   "source": [
    "from bulian import load_demo\n",
    "metadata, tables = load_demo(metadata=True)"
   ]
  },
  {
   "cell_type": "code",
   "execution_count": 5,
   "metadata": {},
   "outputs": [
    {
     "data": {
      "text/plain": [
       "{'users':    user_id country gender  age\n",
       " 0        0      US      M   34\n",
       " 1        1      UK      F   23\n",
       " 2        2      ES   None   44\n",
       " 3        3      UK      M   22\n",
       " 4        4      US      F   54\n",
       " 5        5      DE      M   57\n",
       " 6        6      BG      F   45\n",
       " 7        7      ES   None   41\n",
       " 8        8      FR      F   23\n",
       " 9        9      UK   None   30,\n",
       " 'sessions':    session_id  user_id  device       os  minutes\n",
       " 0           0        0  mobile  android       23\n",
       " 1           1        1  tablet      ios       12\n",
       " 2           2        2  tablet  android        8\n",
       " 3           3        3  mobile  android       13\n",
       " 4           4        4  mobile      ios        9\n",
       " 5           5        5  mobile  android       32\n",
       " 6           6        6  mobile      ios        7\n",
       " 7           7        7  tablet      ios       21\n",
       " 8           8        8  mobile      ios       29\n",
       " 9           9        9  tablet      ios       34,\n",
       " 'transactions':    transaction_id  session_id           timestamp  amount  cancelled\n",
       " 0               0           0 2019-01-01 12:34:32   100.0      False\n",
       " 1               1           1 2019-01-01 12:42:21    55.3      False\n",
       " 2               2           2 2019-01-07 17:23:11    79.5      False\n",
       " 3               3           3 2019-01-10 11:08:57   112.1       True\n",
       " 4               4           4 2019-01-10 21:54:08   110.0       True\n",
       " 5               5           5 2019-01-11 11:21:20    76.3      False\n",
       " 6               6           6 2019-01-22 14:44:10    89.5      False\n",
       " 7               7           7 2019-01-23 10:14:09   132.1       True\n",
       " 8               8           8 2019-01-27 16:09:17    68.0      False\n",
       " 9               9           9 2019-01-29 12:10:48    99.9      False}"
      ]
     },
     "execution_count": 5,
     "metadata": {},
     "output_type": "execute_result"
    }
   ],
   "source": [
    "tables"
   ]
  },
  {
   "cell_type": "code",
   "execution_count": 6,
   "metadata": {},
   "outputs": [],
   "source": [
    "# from bulian import Metadata\n",
    "\n",
    "# metadata = Metadata()\n",
    "# metadata"
   ]
  },
  {
   "cell_type": "code",
   "execution_count": 7,
   "metadata": {},
   "outputs": [],
   "source": [
    "\n",
    "# metadata.add_table(\n",
    "#     name='users',\n",
    "#     data=tables['users'],\n",
    "#     primary_key='user_id'\n",
    "# )"
   ]
  },
  {
   "cell_type": "code",
   "execution_count": 8,
   "metadata": {},
   "outputs": [],
   "source": [
    "# metadata.visualize()"
   ]
  },
  {
   "cell_type": "code",
   "execution_count": 9,
   "metadata": {},
   "outputs": [
    {
     "data": {
      "text/plain": [
       "{'primary_key': 'transaction_id',\n",
       " 'fields': {'transaction_id': {'type': 'id', 'subtype': 'integer'},\n",
       "  'session_id': {'ref': {'field': 'session_id', 'table': 'sessions'},\n",
       "   'type': 'id',\n",
       "   'subtype': 'integer'},\n",
       "  'timestamp': {'type': 'datetime', 'format': '%Y-%m-%dT%H:%M'},\n",
       "  'amount': {'type': 'numerical', 'subtype': 'float'},\n",
       "  'cancelled': {'type': 'boolean'}}}"
      ]
     },
     "execution_count": 9,
     "metadata": {},
     "output_type": "execute_result"
    }
   ],
   "source": [
    "metadata.get_table_meta('transactions')"
   ]
  },
  {
   "cell_type": "code",
   "execution_count": 10,
   "metadata": {},
   "outputs": [
    {
     "name": "stdout",
     "output_type": "stream",
     "text": [
      "users (10, 4)\n",
      "sessions (10, 5)\n",
      "transactions (10, 5)\n"
     ]
    }
   ],
   "source": [
    "for name, table in tables.items():\n",
    "    print(name, table.shape)"
   ]
  },
  {
   "cell_type": "code",
   "execution_count": 11,
   "metadata": {},
   "outputs": [
    {
     "data": {
      "text/html": [
       "<table><tr><td style=\"text-align:left\"><b>users</b></td><td style=\"text-align:left\"><b>sessions</b></td><td style=\"text-align:left\"><b>transactions</b></td></tr><tr><td><table border=\"1\" class=\"dataframe\">\n",
       "  <thead>\n",
       "    <tr style=\"text-align: right;\">\n",
       "      <th>user_id</th>\n",
       "      <th>country</th>\n",
       "      <th>gender</th>\n",
       "      <th>age</th>\n",
       "    </tr>\n",
       "  </thead>\n",
       "  <tbody>\n",
       "    <tr>\n",
       "      <td>0</td>\n",
       "      <td>US</td>\n",
       "      <td>M</td>\n",
       "      <td>34</td>\n",
       "    </tr>\n",
       "    <tr>\n",
       "      <td>1</td>\n",
       "      <td>UK</td>\n",
       "      <td>F</td>\n",
       "      <td>23</td>\n",
       "    </tr>\n",
       "    <tr>\n",
       "      <td>2</td>\n",
       "      <td>ES</td>\n",
       "      <td>None</td>\n",
       "      <td>44</td>\n",
       "    </tr>\n",
       "    <tr>\n",
       "      <td>3</td>\n",
       "      <td>UK</td>\n",
       "      <td>M</td>\n",
       "      <td>22</td>\n",
       "    </tr>\n",
       "    <tr>\n",
       "      <td>4</td>\n",
       "      <td>US</td>\n",
       "      <td>F</td>\n",
       "      <td>54</td>\n",
       "    </tr>\n",
       "    <tr>\n",
       "      <td>5</td>\n",
       "      <td>DE</td>\n",
       "      <td>M</td>\n",
       "      <td>57</td>\n",
       "    </tr>\n",
       "    <tr>\n",
       "      <td>6</td>\n",
       "      <td>BG</td>\n",
       "      <td>F</td>\n",
       "      <td>45</td>\n",
       "    </tr>\n",
       "    <tr>\n",
       "      <td>7</td>\n",
       "      <td>ES</td>\n",
       "      <td>None</td>\n",
       "      <td>41</td>\n",
       "    </tr>\n",
       "    <tr>\n",
       "      <td>8</td>\n",
       "      <td>FR</td>\n",
       "      <td>F</td>\n",
       "      <td>23</td>\n",
       "    </tr>\n",
       "    <tr>\n",
       "      <td>9</td>\n",
       "      <td>UK</td>\n",
       "      <td>None</td>\n",
       "      <td>30</td>\n",
       "    </tr>\n",
       "  </tbody>\n",
       "</table></td><td><table border=\"1\" class=\"dataframe\">\n",
       "  <thead>\n",
       "    <tr style=\"text-align: right;\">\n",
       "      <th>session_id</th>\n",
       "      <th>user_id</th>\n",
       "      <th>device</th>\n",
       "      <th>os</th>\n",
       "      <th>minutes</th>\n",
       "    </tr>\n",
       "  </thead>\n",
       "  <tbody>\n",
       "    <tr>\n",
       "      <td>0</td>\n",
       "      <td>0</td>\n",
       "      <td>mobile</td>\n",
       "      <td>android</td>\n",
       "      <td>23</td>\n",
       "    </tr>\n",
       "    <tr>\n",
       "      <td>1</td>\n",
       "      <td>1</td>\n",
       "      <td>tablet</td>\n",
       "      <td>ios</td>\n",
       "      <td>12</td>\n",
       "    </tr>\n",
       "    <tr>\n",
       "      <td>2</td>\n",
       "      <td>2</td>\n",
       "      <td>tablet</td>\n",
       "      <td>android</td>\n",
       "      <td>8</td>\n",
       "    </tr>\n",
       "    <tr>\n",
       "      <td>3</td>\n",
       "      <td>3</td>\n",
       "      <td>mobile</td>\n",
       "      <td>android</td>\n",
       "      <td>13</td>\n",
       "    </tr>\n",
       "    <tr>\n",
       "      <td>4</td>\n",
       "      <td>4</td>\n",
       "      <td>mobile</td>\n",
       "      <td>ios</td>\n",
       "      <td>9</td>\n",
       "    </tr>\n",
       "    <tr>\n",
       "      <td>5</td>\n",
       "      <td>5</td>\n",
       "      <td>mobile</td>\n",
       "      <td>android</td>\n",
       "      <td>32</td>\n",
       "    </tr>\n",
       "    <tr>\n",
       "      <td>6</td>\n",
       "      <td>6</td>\n",
       "      <td>mobile</td>\n",
       "      <td>ios</td>\n",
       "      <td>7</td>\n",
       "    </tr>\n",
       "    <tr>\n",
       "      <td>7</td>\n",
       "      <td>7</td>\n",
       "      <td>tablet</td>\n",
       "      <td>ios</td>\n",
       "      <td>21</td>\n",
       "    </tr>\n",
       "    <tr>\n",
       "      <td>8</td>\n",
       "      <td>8</td>\n",
       "      <td>mobile</td>\n",
       "      <td>ios</td>\n",
       "      <td>29</td>\n",
       "    </tr>\n",
       "    <tr>\n",
       "      <td>9</td>\n",
       "      <td>9</td>\n",
       "      <td>tablet</td>\n",
       "      <td>ios</td>\n",
       "      <td>34</td>\n",
       "    </tr>\n",
       "  </tbody>\n",
       "</table></td><td><table border=\"1\" class=\"dataframe\">\n",
       "  <thead>\n",
       "    <tr style=\"text-align: right;\">\n",
       "      <th>transaction_id</th>\n",
       "      <th>session_id</th>\n",
       "      <th>timestamp</th>\n",
       "      <th>amount</th>\n",
       "      <th>cancelled</th>\n",
       "    </tr>\n",
       "  </thead>\n",
       "  <tbody>\n",
       "    <tr>\n",
       "      <td>0</td>\n",
       "      <td>0</td>\n",
       "      <td>2019-01-01 12:34:32</td>\n",
       "      <td>100.0</td>\n",
       "      <td>False</td>\n",
       "    </tr>\n",
       "    <tr>\n",
       "      <td>1</td>\n",
       "      <td>1</td>\n",
       "      <td>2019-01-01 12:42:21</td>\n",
       "      <td>55.3</td>\n",
       "      <td>False</td>\n",
       "    </tr>\n",
       "    <tr>\n",
       "      <td>2</td>\n",
       "      <td>2</td>\n",
       "      <td>2019-01-07 17:23:11</td>\n",
       "      <td>79.5</td>\n",
       "      <td>False</td>\n",
       "    </tr>\n",
       "    <tr>\n",
       "      <td>3</td>\n",
       "      <td>3</td>\n",
       "      <td>2019-01-10 11:08:57</td>\n",
       "      <td>112.1</td>\n",
       "      <td>True</td>\n",
       "    </tr>\n",
       "    <tr>\n",
       "      <td>4</td>\n",
       "      <td>4</td>\n",
       "      <td>2019-01-10 21:54:08</td>\n",
       "      <td>110.0</td>\n",
       "      <td>True</td>\n",
       "    </tr>\n",
       "    <tr>\n",
       "      <td>5</td>\n",
       "      <td>5</td>\n",
       "      <td>2019-01-11 11:21:20</td>\n",
       "      <td>76.3</td>\n",
       "      <td>False</td>\n",
       "    </tr>\n",
       "    <tr>\n",
       "      <td>6</td>\n",
       "      <td>6</td>\n",
       "      <td>2019-01-22 14:44:10</td>\n",
       "      <td>89.5</td>\n",
       "      <td>False</td>\n",
       "    </tr>\n",
       "    <tr>\n",
       "      <td>7</td>\n",
       "      <td>7</td>\n",
       "      <td>2019-01-23 10:14:09</td>\n",
       "      <td>132.1</td>\n",
       "      <td>True</td>\n",
       "    </tr>\n",
       "    <tr>\n",
       "      <td>8</td>\n",
       "      <td>8</td>\n",
       "      <td>2019-01-27 16:09:17</td>\n",
       "      <td>68.0</td>\n",
       "      <td>False</td>\n",
       "    </tr>\n",
       "    <tr>\n",
       "      <td>9</td>\n",
       "      <td>9</td>\n",
       "      <td>2019-01-29 12:10:48</td>\n",
       "      <td>99.9</td>\n",
       "      <td>False</td>\n",
       "    </tr>\n",
       "  </tbody>\n",
       "</table></td></tr></table>"
      ],
      "text/plain": [
       "<IPython.core.display.HTML object>"
      ]
     },
     "execution_count": 11,
     "metadata": {},
     "output_type": "execute_result"
    }
   ],
   "source": [
    "from bulian.utils import display_tables\n",
    "display_tables(tables)"
   ]
  },
  {
   "cell_type": "code",
   "execution_count": 12,
   "metadata": {},
   "outputs": [
    {
     "data": {
      "text/plain": [
       "Metadata\n",
       "  root_path: .\n",
       "  tables: ['users', 'sessions', 'transactions']\n",
       "  relationships:\n",
       "    sessions.user_id -> users.user_id\n",
       "    transactions.session_id -> sessions.session_id"
      ]
     },
     "execution_count": 12,
     "metadata": {},
     "output_type": "execute_result"
    }
   ],
   "source": [
    "metadata"
   ]
  },
  {
   "cell_type": "code",
   "execution_count": 13,
   "metadata": {},
   "outputs": [],
   "source": [
    "from bulian import Tabular\n",
    "\n",
    "# m = Tabular.synthesizers.GaussianCopula()"
   ]
  },
  {
   "cell_type": "code",
   "execution_count": 14,
   "metadata": {},
   "outputs": [
    {
     "data": {
      "text/plain": [
       "['users', 'sessions', 'transactions']"
      ]
     },
     "execution_count": 14,
     "metadata": {},
     "output_type": "execute_result"
    }
   ],
   "source": [
    "metadata.get_tables()"
   ]
  },
  {
   "cell_type": "code",
   "execution_count": 15,
   "metadata": {},
   "outputs": [
    {
     "data": {
      "text/plain": [
       "{'users'}"
      ]
     },
     "execution_count": 15,
     "metadata": {},
     "output_type": "execute_result"
    }
   ],
   "source": [
    "metadata.get_parents('sessions')"
   ]
  },
  {
   "cell_type": "code",
   "execution_count": 16,
   "metadata": {},
   "outputs": [
    {
     "name": "stdout",
     "output_type": "stream",
     "text": [
      "model---> <bulian.Tabular.synthesizers.copula_synth.GaussianCopula object at 0x000001587EF13220>\n",
      "foreign_key_values---> [0 1 2 3 4 5 6 7 8 9]\n",
      "model--> <bulian.Tabular.synthesizers.copula_synth.GaussianCopula object at 0x000001580380A4C0>\n",
      "model fit--> <bulian.Tabular.synthesizers.copula_synth.GaussianCopula object at 0x000001580380A400>\n",
      "model--> <bulian.Tabular.synthesizers.copula_synth.GaussianCopula object at 0x000001580380AB50>\n",
      "model fit--> <bulian.Tabular.synthesizers.copula_synth.GaussianCopula object at 0x00000158036AF2E0>\n",
      "model--> <bulian.Tabular.synthesizers.copula_synth.GaussianCopula object at 0x000001580374B790>\n",
      "model fit--> <bulian.Tabular.synthesizers.copula_synth.GaussianCopula object at 0x000001580380A4C0>\n",
      "model--> <bulian.Tabular.synthesizers.copula_synth.GaussianCopula object at 0x000001580380A970>\n",
      "model fit--> <bulian.Tabular.synthesizers.copula_synth.GaussianCopula object at 0x000001580374B790>\n",
      "model--> <bulian.Tabular.synthesizers.copula_synth.GaussianCopula object at 0x0000015803E92250>\n",
      "model fit--> <bulian.Tabular.synthesizers.copula_synth.GaussianCopula object at 0x000001580374B790>\n",
      "model--> <bulian.Tabular.synthesizers.copula_synth.GaussianCopula object at 0x000001580380AB50>\n",
      "model fit--> <bulian.Tabular.synthesizers.copula_synth.GaussianCopula object at 0x000001580374B790>\n",
      "model--> <bulian.Tabular.synthesizers.copula_synth.GaussianCopula object at 0x0000015803E92B80>\n",
      "model fit--> <bulian.Tabular.synthesizers.copula_synth.GaussianCopula object at 0x000001580374B790>\n",
      "model--> <bulian.Tabular.synthesizers.copula_synth.GaussianCopula object at 0x0000015803E92730>\n",
      "model fit--> <bulian.Tabular.synthesizers.copula_synth.GaussianCopula object at 0x000001580374B790>\n",
      "model--> <bulian.Tabular.synthesizers.copula_synth.GaussianCopula object at 0x000001580380AB50>\n",
      "model fit--> <bulian.Tabular.synthesizers.copula_synth.GaussianCopula object at 0x000001580374B790>\n",
      "model--> <bulian.Tabular.synthesizers.copula_synth.GaussianCopula object at 0x0000015803E9AA60>\n",
      "model fit--> <bulian.Tabular.synthesizers.copula_synth.GaussianCopula object at 0x000001580374B790>\n"
     ]
    },
    {
     "ename": "KeyError",
     "evalue": "'__transactions__session_id__num_rows'",
     "output_type": "error",
     "traceback": [
      "\u001b[1;31m---------------------------------------------------------------------------\u001b[0m",
      "\u001b[1;31mKeyError\u001b[0m                                  Traceback (most recent call last)",
      "File \u001b[1;32mc:\\Users\\anaconda\\envs\\BulianAI\\lib\\site-packages\\pandas\\core\\indexes\\base.py:2895\u001b[0m, in \u001b[0;36mIndex.get_loc\u001b[1;34m(self, key, method, tolerance)\u001b[0m\n\u001b[0;32m   2894\u001b[0m \u001b[39mtry\u001b[39;00m:\n\u001b[1;32m-> 2895\u001b[0m     \u001b[39mreturn\u001b[39;00m \u001b[39mself\u001b[39;49m\u001b[39m.\u001b[39;49m_engine\u001b[39m.\u001b[39;49mget_loc(casted_key)\n\u001b[0;32m   2896\u001b[0m \u001b[39mexcept\u001b[39;00m \u001b[39mKeyError\u001b[39;00m \u001b[39mas\u001b[39;00m err:\n",
      "File \u001b[1;32mpandas\\_libs\\index.pyx:70\u001b[0m, in \u001b[0;36mpandas._libs.index.IndexEngine.get_loc\u001b[1;34m()\u001b[0m\n",
      "File \u001b[1;32mpandas\\_libs\\index.pyx:101\u001b[0m, in \u001b[0;36mpandas._libs.index.IndexEngine.get_loc\u001b[1;34m()\u001b[0m\n",
      "File \u001b[1;32mpandas\\_libs\\hashtable_class_helper.pxi:1675\u001b[0m, in \u001b[0;36mpandas._libs.hashtable.PyObjectHashTable.get_item\u001b[1;34m()\u001b[0m\n",
      "File \u001b[1;32mpandas\\_libs\\hashtable_class_helper.pxi:1683\u001b[0m, in \u001b[0;36mpandas._libs.hashtable.PyObjectHashTable.get_item\u001b[1;34m()\u001b[0m\n",
      "\u001b[1;31mKeyError\u001b[0m: '__transactions__session_id__num_rows'",
      "\nThe above exception was the direct cause of the following exception:\n",
      "\u001b[1;31mKeyError\u001b[0m                                  Traceback (most recent call last)",
      "\u001b[1;32mf:\\Users\\Kaggle\\bulian\\notebooks\\relational_demo.ipynb Cell 16\u001b[0m in \u001b[0;36m<cell line: 4>\u001b[1;34m()\u001b[0m\n\u001b[0;32m      <a href='vscode-notebook-cell:/f%3A/Users/Kaggle/bulian/notebooks/relational_demo.ipynb#ch0000012?line=0'>1</a>\u001b[0m \u001b[39mfrom\u001b[39;00m \u001b[39mbulian\u001b[39;00m\u001b[39m.\u001b[39;00m\u001b[39mrelational\u001b[39;00m \u001b[39mimport\u001b[39;00m HMA1\n\u001b[0;32m      <a href='vscode-notebook-cell:/f%3A/Users/Kaggle/bulian/notebooks/relational_demo.ipynb#ch0000012?line=2'>3</a>\u001b[0m model \u001b[39m=\u001b[39m HMA1(metadata,)\n\u001b[1;32m----> <a href='vscode-notebook-cell:/f%3A/Users/Kaggle/bulian/notebooks/relational_demo.ipynb#ch0000012?line=3'>4</a>\u001b[0m model\u001b[39m.\u001b[39;49mfit(tables)\n",
      "File \u001b[1;32mF:\\Users\\Kaggle\\bulian\\bulian\\relational\\base.py:59\u001b[0m, in \u001b[0;36mBaseRelationalModel.fit\u001b[1;34m(self, tables)\u001b[0m\n\u001b[0;32m     51\u001b[0m \u001b[39mdef\u001b[39;00m \u001b[39mfit\u001b[39m(\u001b[39mself\u001b[39m, tables\u001b[39m=\u001b[39m\u001b[39mNone\u001b[39;00m):\n\u001b[0;32m     52\u001b[0m     \u001b[39m\"\"\"Fit this relational model instance to the dataset data.\u001b[39;00m\n\u001b[0;32m     53\u001b[0m \u001b[39m    Args:\u001b[39;00m\n\u001b[0;32m     54\u001b[0m \u001b[39m        tables (dict):\u001b[39;00m\n\u001b[1;32m   (...)\u001b[0m\n\u001b[0;32m     57\u001b[0m \u001b[39m            indicated in ``metadata``. Defaults to ``None``.\u001b[39;00m\n\u001b[0;32m     58\u001b[0m \u001b[39m    \"\"\"\u001b[39;00m\n\u001b[1;32m---> 59\u001b[0m     \u001b[39mself\u001b[39;49m\u001b[39m.\u001b[39;49m_fit(tables)\n\u001b[0;32m     60\u001b[0m     \u001b[39mself\u001b[39m\u001b[39m.\u001b[39mfitted \u001b[39m=\u001b[39m \u001b[39mTrue\u001b[39;00m\n",
      "File \u001b[1;32mF:\\Users\\Kaggle\\bulian\\bulian\\relational\\hma.py:272\u001b[0m, in \u001b[0;36mHMA1._fit\u001b[1;34m(self, tables)\u001b[0m\n\u001b[0;32m    270\u001b[0m \u001b[39mfor\u001b[39;00m table_name \u001b[39min\u001b[39;00m \u001b[39mself\u001b[39m\u001b[39m.\u001b[39mmetadata\u001b[39m.\u001b[39mget_tables():\n\u001b[0;32m    271\u001b[0m     \u001b[39mif\u001b[39;00m \u001b[39mnot\u001b[39;00m \u001b[39mself\u001b[39m\u001b[39m.\u001b[39mmetadata\u001b[39m.\u001b[39mget_parents(table_name):\n\u001b[1;32m--> 272\u001b[0m         \u001b[39mself\u001b[39;49m\u001b[39m.\u001b[39;49m_model_table(table_name, tables)\n\u001b[0;32m    274\u001b[0m LOGGER\u001b[39m.\u001b[39minfo(\u001b[39m'\u001b[39m\u001b[39mModeling Complete\u001b[39m\u001b[39m'\u001b[39m)\n",
      "File \u001b[1;32mF:\\Users\\Kaggle\\bulian\\bulian\\relational\\hma.py:237\u001b[0m, in \u001b[0;36mHMA1._model_table\u001b[1;34m(self, table_name, tables)\u001b[0m\n\u001b[0;32m    235\u001b[0m \u001b[39mif\u001b[39;00m primary_key:\n\u001b[0;32m    236\u001b[0m     table \u001b[39m=\u001b[39m table\u001b[39m.\u001b[39mset_index(primary_key)\n\u001b[1;32m--> 237\u001b[0m     table \u001b[39m=\u001b[39m \u001b[39mself\u001b[39;49m\u001b[39m.\u001b[39;49m_extend_table(table, tables, table_name)\n\u001b[0;32m    239\u001b[0m table_meta, keys \u001b[39m=\u001b[39m \u001b[39mself\u001b[39m\u001b[39m.\u001b[39m_prepare_for_modeling(table, table_name, primary_key)\n\u001b[0;32m    241\u001b[0m LOGGER\u001b[39m.\u001b[39minfo(\u001b[39m'\u001b[39m\u001b[39mFitting \u001b[39m\u001b[39m%s\u001b[39;00m\u001b[39m for table \u001b[39m\u001b[39m%s\u001b[39;00m\u001b[39m; shape: \u001b[39m\u001b[39m%s\u001b[39;00m\u001b[39m'\u001b[39m, \u001b[39mself\u001b[39m\u001b[39m.\u001b[39m_model\u001b[39m.\u001b[39m\u001b[39m__name__\u001b[39m,\n\u001b[0;32m    242\u001b[0m             table_name, table\u001b[39m.\u001b[39mshape)\n",
      "File \u001b[1;32mF:\\Users\\Kaggle\\bulian\\bulian\\relational\\hma.py:152\u001b[0m, in \u001b[0;36mHMA1._extend_table\u001b[1;34m(self, table, tables, table_name)\u001b[0m\n\u001b[0;32m    150\u001b[0m \u001b[39mfor\u001b[39;00m child_name \u001b[39min\u001b[39;00m \u001b[39mself\u001b[39m\u001b[39m.\u001b[39mmetadata\u001b[39m.\u001b[39mget_children(table_name):\n\u001b[0;32m    151\u001b[0m     \u001b[39mif\u001b[39;00m child_name \u001b[39mnot\u001b[39;00m \u001b[39min\u001b[39;00m \u001b[39mself\u001b[39m\u001b[39m.\u001b[39m_models:\n\u001b[1;32m--> 152\u001b[0m         child_table \u001b[39m=\u001b[39m \u001b[39mself\u001b[39;49m\u001b[39m.\u001b[39;49m_model_table(child_name, tables)\n\u001b[0;32m    153\u001b[0m     \u001b[39melse\u001b[39;00m:\n\u001b[0;32m    154\u001b[0m         child_table \u001b[39m=\u001b[39m tables[child_name]\n",
      "File \u001b[1;32mF:\\Users\\Kaggle\\bulian\\bulian\\relational\\hma.py:237\u001b[0m, in \u001b[0;36mHMA1._model_table\u001b[1;34m(self, table_name, tables)\u001b[0m\n\u001b[0;32m    235\u001b[0m \u001b[39mif\u001b[39;00m primary_key:\n\u001b[0;32m    236\u001b[0m     table \u001b[39m=\u001b[39m table\u001b[39m.\u001b[39mset_index(primary_key)\n\u001b[1;32m--> 237\u001b[0m     table \u001b[39m=\u001b[39m \u001b[39mself\u001b[39;49m\u001b[39m.\u001b[39;49m_extend_table(table, tables, table_name)\n\u001b[0;32m    239\u001b[0m table_meta, keys \u001b[39m=\u001b[39m \u001b[39mself\u001b[39m\u001b[39m.\u001b[39m_prepare_for_modeling(table, table_name, primary_key)\n\u001b[0;32m    241\u001b[0m LOGGER\u001b[39m.\u001b[39minfo(\u001b[39m'\u001b[39m\u001b[39mFitting \u001b[39m\u001b[39m%s\u001b[39;00m\u001b[39m for table \u001b[39m\u001b[39m%s\u001b[39;00m\u001b[39m; shape: \u001b[39m\u001b[39m%s\u001b[39;00m\u001b[39m'\u001b[39m, \u001b[39mself\u001b[39m\u001b[39m.\u001b[39m_model\u001b[39m.\u001b[39m\u001b[39m__name__\u001b[39m,\n\u001b[0;32m    242\u001b[0m             table_name, table\u001b[39m.\u001b[39mshape)\n",
      "File \u001b[1;32mF:\\Users\\Kaggle\\bulian\\bulian\\relational\\hma.py:162\u001b[0m, in \u001b[0;36mHMA1._extend_table\u001b[1;34m(self, table, tables, table_name)\u001b[0m\n\u001b[0;32m    160\u001b[0m         table \u001b[39m=\u001b[39m table\u001b[39m.\u001b[39mmerge(extension, how\u001b[39m=\u001b[39m\u001b[39m'\u001b[39m\u001b[39mleft\u001b[39m\u001b[39m'\u001b[39m, right_index\u001b[39m=\u001b[39m\u001b[39mTrue\u001b[39;00m, left_index\u001b[39m=\u001b[39m\u001b[39mTrue\u001b[39;00m)\n\u001b[0;32m    161\u001b[0m         num_rows_key \u001b[39m=\u001b[39m \u001b[39mf\u001b[39m\u001b[39m'\u001b[39m\u001b[39m__\u001b[39m\u001b[39m{\u001b[39;00mchild_name\u001b[39m}\u001b[39;00m\u001b[39m__\u001b[39m\u001b[39m{\u001b[39;00mforeign_key\u001b[39m}\u001b[39;00m\u001b[39m__num_rows\u001b[39m\u001b[39m'\u001b[39m\n\u001b[1;32m--> 162\u001b[0m         table[num_rows_key]\u001b[39m.\u001b[39mfillna(\u001b[39m0\u001b[39m, inplace\u001b[39m=\u001b[39m\u001b[39mTrue\u001b[39;00m)     \u001b[39m#### this is problem\u001b[39;00m\n\u001b[0;32m    163\u001b[0m         \u001b[39mself\u001b[39m\u001b[39m.\u001b[39m_max_child_rows[num_rows_key] \u001b[39m=\u001b[39m table[num_rows_key]\u001b[39m.\u001b[39mmax()\n\u001b[0;32m    164\u001b[0m \u001b[39m# print('exit here')\u001b[39;00m\n",
      "File \u001b[1;32mc:\\Users\\anaconda\\envs\\BulianAI\\lib\\site-packages\\pandas\\core\\frame.py:2902\u001b[0m, in \u001b[0;36mDataFrame.__getitem__\u001b[1;34m(self, key)\u001b[0m\n\u001b[0;32m   2900\u001b[0m \u001b[39mif\u001b[39;00m \u001b[39mself\u001b[39m\u001b[39m.\u001b[39mcolumns\u001b[39m.\u001b[39mnlevels \u001b[39m>\u001b[39m \u001b[39m1\u001b[39m:\n\u001b[0;32m   2901\u001b[0m     \u001b[39mreturn\u001b[39;00m \u001b[39mself\u001b[39m\u001b[39m.\u001b[39m_getitem_multilevel(key)\n\u001b[1;32m-> 2902\u001b[0m indexer \u001b[39m=\u001b[39m \u001b[39mself\u001b[39;49m\u001b[39m.\u001b[39;49mcolumns\u001b[39m.\u001b[39;49mget_loc(key)\n\u001b[0;32m   2903\u001b[0m \u001b[39mif\u001b[39;00m is_integer(indexer):\n\u001b[0;32m   2904\u001b[0m     indexer \u001b[39m=\u001b[39m [indexer]\n",
      "File \u001b[1;32mc:\\Users\\anaconda\\envs\\BulianAI\\lib\\site-packages\\pandas\\core\\indexes\\base.py:2897\u001b[0m, in \u001b[0;36mIndex.get_loc\u001b[1;34m(self, key, method, tolerance)\u001b[0m\n\u001b[0;32m   2895\u001b[0m         \u001b[39mreturn\u001b[39;00m \u001b[39mself\u001b[39m\u001b[39m.\u001b[39m_engine\u001b[39m.\u001b[39mget_loc(casted_key)\n\u001b[0;32m   2896\u001b[0m     \u001b[39mexcept\u001b[39;00m \u001b[39mKeyError\u001b[39;00m \u001b[39mas\u001b[39;00m err:\n\u001b[1;32m-> 2897\u001b[0m         \u001b[39mraise\u001b[39;00m \u001b[39mKeyError\u001b[39;00m(key) \u001b[39mfrom\u001b[39;00m \u001b[39merr\u001b[39;00m\n\u001b[0;32m   2899\u001b[0m \u001b[39mif\u001b[39;00m tolerance \u001b[39mis\u001b[39;00m \u001b[39mnot\u001b[39;00m \u001b[39mNone\u001b[39;00m:\n\u001b[0;32m   2900\u001b[0m     tolerance \u001b[39m=\u001b[39m \u001b[39mself\u001b[39m\u001b[39m.\u001b[39m_convert_tolerance(tolerance, np\u001b[39m.\u001b[39masarray(key))\n",
      "\u001b[1;31mKeyError\u001b[0m: '__transactions__session_id__num_rows'"
     ]
    }
   ],
   "source": [
    "from bulian.relational import HMA1\n",
    "\n",
    "model = HMA1(metadata,)\n",
    "model.fit(tables)"
   ]
  },
  {
   "cell_type": "code",
   "execution_count": null,
   "metadata": {},
   "outputs": [],
   "source": [
    "asdasdsad"
   ]
  },
  {
   "cell_type": "code",
   "execution_count": null,
   "metadata": {},
   "outputs": [],
   "source": []
  },
  {
   "cell_type": "code",
   "execution_count": null,
   "metadata": {},
   "outputs": [],
   "source": [
    "new_data = model.sample(num_rows=100)"
   ]
  },
  {
   "cell_type": "code",
   "execution_count": null,
   "metadata": {},
   "outputs": [],
   "source": [
    "new_data"
   ]
  },
  {
   "cell_type": "code",
   "execution_count": null,
   "metadata": {},
   "outputs": [],
   "source": [
    "asdsadsad"
   ]
  },
  {
   "cell_type": "code",
   "execution_count": null,
   "metadata": {},
   "outputs": [],
   "source": [
    "from bulian.metrics.multi_table import MultiTableMetric,MultiSingleTableMetric,multi_single_table"
   ]
  },
  {
   "cell_type": "code",
   "execution_count": null,
   "metadata": {},
   "outputs": [],
   "source": [
    "MultiTableMetric.get_subclasses()"
   ]
  },
  {
   "cell_type": "code",
   "execution_count": null,
   "metadata": {},
   "outputs": [],
   "source": [
    "metrics = SingleTableMetric.get_subclasses()\n",
    "numeric_features = ['capital-gain','capital-loss','hours-per-week']\n",
    "discrete_columns = [\n",
    "    \"workclass\",\n",
    "    \"education\",\n",
    "    \"marital-status\",\n",
    "    \"occupation\",\n",
    "    \"relationship\",\n",
    "    \"race\",\n",
    "    \"sex\",\n",
    "    \"native-country\",\n",
    "    \"income\",\n",
    "]"
   ]
  },
  {
   "cell_type": "code",
   "execution_count": null,
   "metadata": {},
   "outputs": [],
   "source": [
    "metrics"
   ]
  },
  {
   "cell_type": "code",
   "execution_count": null,
   "metadata": {},
   "outputs": [],
   "source": [
    "compute_metrics(metrics,data, sample)"
   ]
  },
  {
   "cell_type": "markdown",
   "metadata": {},
   "source": [
    "#### Report with privacy metrics"
   ]
  },
  {
   "cell_type": "code",
   "execution_count": null,
   "metadata": {},
   "outputs": [],
   "source": [
    "get_full_report(data, sample,discrete_columns,numeric_features, key_fields=['age','workclass','education'],sensitive_fields = ['income'])"
   ]
  },
  {
   "cell_type": "markdown",
   "metadata": {},
   "source": [
    "#### Report without privacy metrics, but includes ML efficacy stuff"
   ]
  },
  {
   "cell_type": "code",
   "execution_count": null,
   "metadata": {},
   "outputs": [],
   "source": [
    "get_full_report(data, sample,discrete_columns,numeric_features,target='income')"
   ]
  },
  {
   "cell_type": "markdown",
   "metadata": {},
   "source": [
    "#### Report without privacy metrics and without ML efficacy stuff"
   ]
  },
  {
   "cell_type": "code",
   "execution_count": null,
   "metadata": {},
   "outputs": [],
   "source": [
    "get_full_report(data, sample,discrete_columns,numeric_features)"
   ]
  },
  {
   "cell_type": "markdown",
   "metadata": {},
   "source": [
    "#### Save model to disk"
   ]
  },
  {
   "cell_type": "code",
   "execution_count": null,
   "metadata": {},
   "outputs": [],
   "source": [
    "synth.save('F:/Users/Kaggle/wids/NormalAPI.pth')"
   ]
  },
  {
   "cell_type": "markdown",
   "metadata": {},
   "source": [
    "#### "
   ]
  },
  {
   "cell_type": "markdown",
   "metadata": {},
   "source": [
    "## Adversarial API: Non-privately differentiable synthesizer"
   ]
  },
  {
   "cell_type": "code",
   "execution_count": null,
   "metadata": {},
   "outputs": [],
   "source": [
    "synth = TwinSynthesizer(batch_size=200,device='cpu')   ### cpu else cuda"
   ]
  },
  {
   "cell_type": "code",
   "execution_count": null,
   "metadata": {
    "scrolled": true
   },
   "outputs": [],
   "source": [
    "synth.fit_adversarial(data=data,epochs=2,discrete_columns=discrete_columns,test_pct=0.33)"
   ]
  },
  {
   "cell_type": "code",
   "execution_count": null,
   "metadata": {
    "scrolled": false
   },
   "outputs": [],
   "source": [
    "sample = synth.sample_adversarial(data,1000)"
   ]
  },
  {
   "cell_type": "code",
   "execution_count": null,
   "metadata": {},
   "outputs": [],
   "source": [
    "metrics = SingleTableMetric.get_subclasses()\n",
    "numeric_features = ['capital-gain','capital-loss','hours-per-week']\n",
    "discrete_columns = [\n",
    "    \"workclass\",\n",
    "    \"education\",\n",
    "    \"marital-status\",\n",
    "    \"occupation\",\n",
    "    \"relationship\",\n",
    "    \"race\",\n",
    "    \"sex\",\n",
    "    \"native-country\",\n",
    "    \"income\",\n",
    "]"
   ]
  },
  {
   "cell_type": "markdown",
   "metadata": {},
   "source": [
    "#### Report with privacy metrics"
   ]
  },
  {
   "cell_type": "code",
   "execution_count": null,
   "metadata": {},
   "outputs": [],
   "source": [
    "get_full_report(data, sample,discrete_columns,numeric_features, key_fields=['age','workclass','education'],sensitive_fields = ['income'])"
   ]
  },
  {
   "cell_type": "markdown",
   "metadata": {},
   "source": [
    "#### Report without privacy metrics, but includes ML efficacy stuff"
   ]
  },
  {
   "cell_type": "code",
   "execution_count": null,
   "metadata": {},
   "outputs": [],
   "source": [
    "get_full_report(data, sample,discrete_columns,numeric_features,target='income')"
   ]
  },
  {
   "cell_type": "markdown",
   "metadata": {},
   "source": [
    "#### Report without privacy metrics and without ML efficacy stuff"
   ]
  },
  {
   "cell_type": "code",
   "execution_count": null,
   "metadata": {},
   "outputs": [],
   "source": [
    "get_full_report(data, sample,discrete_columns,numeric_features)"
   ]
  },
  {
   "cell_type": "markdown",
   "metadata": {},
   "source": [
    "#### Save model to disk"
   ]
  },
  {
   "cell_type": "code",
   "execution_count": null,
   "metadata": {},
   "outputs": [],
   "source": [
    "synth.save('F:/Users/Kaggle/wids/AdversarialAPI.pth')"
   ]
  },
  {
   "cell_type": "markdown",
   "metadata": {},
   "source": [
    "#### "
   ]
  },
  {
   "cell_type": "markdown",
   "metadata": {},
   "source": [
    "## Normal API: Privately differentiable synthesizer"
   ]
  },
  {
   "cell_type": "code",
   "execution_count": null,
   "metadata": {},
   "outputs": [],
   "source": [
    "synth = PrivateTwinSynthesizer(epsilon=0.1,batch_size=64,device='cuda')   ### cpu else cuda"
   ]
  },
  {
   "cell_type": "code",
   "execution_count": null,
   "metadata": {
    "scrolled": true
   },
   "outputs": [],
   "source": [
    "synth.fit(data=data,discrete_columns=discrete_columns,update_epsilon=1)"
   ]
  },
  {
   "cell_type": "code",
   "execution_count": null,
   "metadata": {},
   "outputs": [],
   "source": [
    "sample = synth.sample(1000)"
   ]
  },
  {
   "cell_type": "code",
   "execution_count": null,
   "metadata": {},
   "outputs": [],
   "source": [
    "metrics = SingleTableMetric.get_subclasses()\n",
    "numeric_features = ['capital-gain','capital-loss','hours-per-week']\n",
    "discrete_columns = [\n",
    "    \"workclass\",\n",
    "    \"education\",\n",
    "    \"marital-status\",\n",
    "    \"occupation\",\n",
    "    \"relationship\",\n",
    "    \"race\",\n",
    "    \"sex\",\n",
    "    \"native-country\",\n",
    "    \"income\",\n",
    "]"
   ]
  },
  {
   "cell_type": "markdown",
   "metadata": {},
   "source": [
    "#### Report with privacy metrics"
   ]
  },
  {
   "cell_type": "code",
   "execution_count": null,
   "metadata": {},
   "outputs": [],
   "source": [
    "get_full_report(data, sample,discrete_columns,numeric_features, key_fields=['age','workclass','education'],sensitive_fields = ['income'])"
   ]
  },
  {
   "cell_type": "markdown",
   "metadata": {},
   "source": [
    "#### Report without privacy metrics, but includes ML efficacy stuff"
   ]
  },
  {
   "cell_type": "code",
   "execution_count": null,
   "metadata": {},
   "outputs": [],
   "source": [
    "get_full_report(data, sample,discrete_columns,numeric_features,target='income')"
   ]
  },
  {
   "cell_type": "markdown",
   "metadata": {},
   "source": [
    "#### Report without privacy metrics and without ML efficacy stuff"
   ]
  },
  {
   "cell_type": "code",
   "execution_count": null,
   "metadata": {},
   "outputs": [],
   "source": [
    "get_full_report(data, sample,discrete_columns,numeric_features)"
   ]
  },
  {
   "cell_type": "markdown",
   "metadata": {},
   "source": [
    "#### Save model to disk"
   ]
  },
  {
   "cell_type": "code",
   "execution_count": null,
   "metadata": {},
   "outputs": [],
   "source": [
    "synth.save('F:/Users/Kaggle/wids/PrivateModelNormalAPI.pth')"
   ]
  },
  {
   "cell_type": "markdown",
   "metadata": {},
   "source": [
    "#### "
   ]
  },
  {
   "cell_type": "markdown",
   "metadata": {},
   "source": [
    "## Adversarial API: Privately differentiable synthesizer"
   ]
  },
  {
   "cell_type": "code",
   "execution_count": null,
   "metadata": {},
   "outputs": [],
   "source": [
    "synth = PrivateTwinSynthesizer(epsilon=0.1,batch_size=64,device='cuda')   ### cpu else cuda"
   ]
  },
  {
   "cell_type": "code",
   "execution_count": null,
   "metadata": {
    "scrolled": true
   },
   "outputs": [],
   "source": [
    "synth.fit_adversarial(data=data,discrete_columns=discrete_columns,update_epsilon=1)"
   ]
  },
  {
   "cell_type": "code",
   "execution_count": null,
   "metadata": {
    "scrolled": true
   },
   "outputs": [],
   "source": [
    "sample = synth.sample_adversarial(data,1000)"
   ]
  },
  {
   "cell_type": "code",
   "execution_count": null,
   "metadata": {},
   "outputs": [],
   "source": [
    "metrics = SingleTableMetric.get_subclasses()\n",
    "numeric_features = ['capital-gain','capital-loss','hours-per-week']\n",
    "discrete_columns = [\n",
    "    \"workclass\",\n",
    "    \"education\",\n",
    "    \"marital-status\",\n",
    "    \"occupation\",\n",
    "    \"relationship\",\n",
    "    \"race\",\n",
    "    \"sex\",\n",
    "    \"native-country\",\n",
    "    \"income\",\n",
    "]"
   ]
  },
  {
   "cell_type": "markdown",
   "metadata": {},
   "source": [
    "#### Report with privacy metrics"
   ]
  },
  {
   "cell_type": "code",
   "execution_count": null,
   "metadata": {},
   "outputs": [],
   "source": [
    "get_full_report(data, sample,discrete_columns,numeric_features, key_fields=['age','workclass','education'],sensitive_fields = ['income'])"
   ]
  },
  {
   "cell_type": "markdown",
   "metadata": {},
   "source": [
    "#### Report without privacy metrics, but includes ML efficacy stuff"
   ]
  },
  {
   "cell_type": "code",
   "execution_count": null,
   "metadata": {},
   "outputs": [],
   "source": [
    "get_full_report(data, sample,discrete_columns,numeric_features,target='income')"
   ]
  },
  {
   "cell_type": "markdown",
   "metadata": {},
   "source": [
    "#### Report without privacy metrics and without ML efficacy stuff"
   ]
  },
  {
   "cell_type": "code",
   "execution_count": null,
   "metadata": {},
   "outputs": [],
   "source": [
    "get_full_report(data, sample,discrete_columns,numeric_features)"
   ]
  },
  {
   "cell_type": "markdown",
   "metadata": {},
   "source": [
    "#### Save model to disk"
   ]
  },
  {
   "cell_type": "code",
   "execution_count": null,
   "metadata": {},
   "outputs": [],
   "source": [
    "synth.save('F:/Users/Kaggle/wids/PrivateModelAdvAPI.pth')"
   ]
  },
  {
   "cell_type": "markdown",
   "metadata": {},
   "source": [
    "#### "
   ]
  },
  {
   "cell_type": "markdown",
   "metadata": {},
   "source": [
    "### Fin ###"
   ]
  },
  {
   "cell_type": "code",
   "execution_count": null,
   "metadata": {},
   "outputs": [],
   "source": []
  }
 ],
 "metadata": {
  "kernelspec": {
   "display_name": "Python 3.8.13 ('BulianAI')",
   "language": "python",
   "name": "python3"
  },
  "language_info": {
   "codemirror_mode": {
    "name": "ipython",
    "version": 3
   },
   "file_extension": ".py",
   "mimetype": "text/x-python",
   "name": "python",
   "nbconvert_exporter": "python",
   "pygments_lexer": "ipython3",
   "version": "3.8.13"
  },
  "vscode": {
   "interpreter": {
    "hash": "5bd8aa6735f1437aab03e8ebf738b2f8b20d86a3909cb61e5eeff3a2ad09e1d8"
   }
  }
 },
 "nbformat": 4,
 "nbformat_minor": 2
}
